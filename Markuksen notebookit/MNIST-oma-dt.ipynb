{
 "cells": [
  {
   "cell_type": "code",
   "execution_count": 1,
   "metadata": {
    "collapsed": false,
    "deletable": true,
    "editable": true
   },
   "outputs": [
    {
     "name": "stderr",
     "output_type": "stream",
     "text": [
      "/home/jovyan/.local/lib/python3.5/site-packages/sklearn/cross_validation.py:44: DeprecationWarning: This module was deprecated in version 0.18 in favor of the model_selection module into which all the refactored classes and functions are moved. Also note that the interface of the new CV iterators are different from that of this module. This module will be removed in 0.20.\n",
      "  \"This module will be removed in 0.20.\", DeprecationWarning)\n",
      "/opt/conda/lib/python3.5/site-packages/IPython/html.py:14: ShimWarning: The `IPython.html` package has been deprecated. You should import from `notebook` instead. `IPython.html.widgets` has moved to `ipywidgets`.\n",
      "  \"`IPython.html.widgets` has moved to `ipywidgets`.\", ShimWarning)\n"
     ]
    }
   ],
   "source": [
    "%matplotlib inline\n",
    "\n",
    "from time import time\n",
    "import numpy as np\n",
    "from sklearn.tree import DecisionTreeClassifier, export_graphviz\n",
    "from sklearn.ensemble import RandomForestClassifier\n",
    "from xgboost import XGBClassifier\n",
    "from sklearn.metrics import accuracy_score, confusion_matrix, classification_report\n",
    "\n",
    "import matplotlib.pyplot as plt\n",
    "import seaborn as sns\n",
    "import graphviz"
   ]
  },
  {
   "cell_type": "code",
   "execution_count": 2,
   "metadata": {
    "collapsed": false,
    "deletable": true,
    "editable": true
   },
   "outputs": [
    {
     "name": "stderr",
     "output_type": "stream",
     "text": [
      "Using TensorFlow backend.\n"
     ]
    },
    {
     "name": "stdout",
     "output_type": "stream",
     "text": [
      "\n",
      "MNIST data loaded: train: 60000 test: 10000\n",
      "X_train: (60000, 28, 28)\n",
      "y_train: (60000,)\n",
      "X_test (10000, 28, 28)\n",
      "y_test (10000,)\n"
     ]
    }
   ],
   "source": [
    "from keras.datasets import mnist\n",
    "(X_train, y_train), (X_test, y_test) = mnist.load_data()\n",
    "\n",
    "print()\n",
    "print('MNIST data loaded: train:',len(X_train),'test:',len(X_test))\n",
    "print('X_train:', X_train.shape)\n",
    "print('y_train:', y_train.shape)\n",
    "print('X_test', X_test.shape)\n",
    "print('y_test', y_test.shape)"
   ]
  },
  {
   "cell_type": "markdown",
   "metadata": {
    "deletable": true,
    "editable": true
   },
   "source": [
    "### Decision Trees"
   ]
  },
  {
   "cell_type": "code",
   "execution_count": 5,
   "metadata": {
    "collapsed": false,
    "deletable": true,
    "editable": true
   },
   "outputs": [
    {
     "name": "stdout",
     "output_type": "stream",
     "text": [
      "DecisionTreeClassifier(class_weight=None, criterion='gini', max_depth=None,\n",
      "            max_features=None, max_leaf_nodes=None,\n",
      "            min_impurity_split=1e-07, min_samples_leaf=1,\n",
      "            min_samples_split=2, min_weight_fraction_leaf=0.0,\n",
      "            presort=False, random_state=None, splitter='best')\n",
      "Aikaa kulunut: 22.93s\n",
      "Ennakoitiin 10000 numeroa tarkkuudella: 0.8778\n"
     ]
    }
   ],
   "source": [
    "t0 = time()\n",
    "\n",
    "clf_dt = DecisionTreeClassifier()\n",
    "print(clf_dt.fit(X_train.reshape(-1,28*28), y_train))\n",
    "print(\"Aikaa kulunut: %.2fs\" % (time()-t0))\n",
    "\n",
    "pred_dt = clf_dt.predict(X_test.reshape(-1,28*28))\n",
    "print(\"Ennakoitiin\", len(pred_dt), \"numeroa tarkkuudella:\", accuracy_score(y_test, pred_dt))"
   ]
  },
  {
   "cell_type": "code",
   "execution_count": 6,
   "metadata": {
    "collapsed": false,
    "deletable": true,
    "editable": true
   },
   "outputs": [
    {
     "name": "stdout",
     "output_type": "stream",
     "text": [
      "Kirjoitettiin PDF-tiedosto: mydt.pdf\n"
     ]
    }
   ],
   "source": [
    "export_graphviz(clf_dt, out_file=\"mydt.dot\")\n",
    "with open(\"mydt.dot\") as f:\n",
    "    dot_graph = f.read()\n",
    "    a = graphviz.Source(dot_graph)\n",
    "    print(\"Kirjoitettiin PDF-tiedosto:\", a.render(\"mydt\", view=False))"
   ]
  },
  {
   "cell_type": "code",
   "execution_count": 8,
   "metadata": {
    "collapsed": false,
    "deletable": true,
    "editable": true
   },
   "outputs": [
    {
     "name": "stdout",
     "output_type": "stream",
     "text": [
      "DecisionTreeClassifier(class_weight=None, criterion='gini', max_depth=3,\n",
      "            max_features=None, max_leaf_nodes=None,\n",
      "            min_impurity_split=1e-07, min_samples_leaf=1,\n",
      "            min_samples_split=2, min_weight_fraction_leaf=0.0,\n",
      "            presort=False, random_state=None, splitter='best')\n",
      "Aikaa kulunut: 4.42s\n",
      "Ennakoitiin 10000 numeroa tarkkuudella: 0.4953\n",
      "Kirjoitettiin PDF-tiedosto: mydt.pdf\n"
     ]
    }
   ],
   "source": [
    "t0 = time()\n",
    "\n",
    "clf_dt = DecisionTreeClassifier(max_depth=3)\n",
    "print(clf_dt.fit(X_train.reshape(-1,28*28), y_train))\n",
    "print(\"Aikaa kulunut: %.2fs\" % (time()-t0))\n",
    "\n",
    "pred_dt = clf_dt.predict(X_test.reshape(-1,28*28))\n",
    "print(\"Ennakoitiin\", len(pred_dt), \"numeroa tarkkuudella:\", accuracy_score(y_test, pred_dt))\n",
    "\n",
    "export_graphviz(clf_dt, out_file=\"mydt.dot\")\n",
    "with open(\"mydt.dot\") as f:\n",
    "    dot_graph = f.read()\n",
    "    a = graphviz.Source(dot_graph)\n",
    "    print(\"Kirjoitettiin PDF-tiedosto:\", a.render(\"mydt\", view=False))\n"
   ]
  },
  {
   "cell_type": "markdown",
   "metadata": {
    "deletable": true,
    "editable": true
   },
   "source": [
    "### Random Forests"
   ]
  },
  {
   "cell_type": "code",
   "execution_count": 33,
   "metadata": {
    "collapsed": false,
    "deletable": true,
    "editable": true
   },
   "outputs": [
    {
     "name": "stdout",
     "output_type": "stream",
     "text": [
      "RandomForestClassifier(bootstrap=True, class_weight=None, criterion='gini',\n",
      "            max_depth=None, max_features='auto', max_leaf_nodes=None,\n",
      "            min_impurity_split=1e-07, min_samples_leaf=1,\n",
      "            min_samples_split=2, min_weight_fraction_leaf=0.0,\n",
      "            n_estimators=400, n_jobs=1, oob_score=False, random_state=None,\n",
      "            verbose=0, warm_start=False)\n",
      "Aikaa kului: 178.89s\n"
     ]
    }
   ],
   "source": [
    "t0 = time()\n",
    "clf_rf =RandomForestClassifier(n_estimators = 400)\n",
    "print(clf_rf.fit(X_train.reshape(-1,28*28), y_train))\n",
    "print(\"Aikaa kului: %.2fs\" % (time()-t0))"
   ]
  },
  {
   "cell_type": "code",
   "execution_count": 34,
   "metadata": {
    "collapsed": false,
    "deletable": true,
    "editable": true
   },
   "outputs": [
    {
     "name": "stdout",
     "output_type": "stream",
     "text": [
      "Ennakoitiin 10000 numeroa tarkkuudella: 0.9714\n"
     ]
    }
   ],
   "source": [
    "pred_rf = clf_rf.predict(X_test.reshape(-1,28*28))\n",
    "print(\"Ennakoitiin\", len(pred_rf), \"numeroa tarkkuudella:\", accuracy_score(y_test, pred_rf))"
   ]
  },
  {
   "cell_type": "code",
   "execution_count": 11,
   "metadata": {
    "collapsed": true,
    "deletable": true,
    "editable": true
   },
   "outputs": [],
   "source": [
    "def show_failures(predictions, trueclass=None, predictedclass=None, maxtoshow=10):\n",
    "    errors = predictions!=y_test\n",
    "    print('Showing max', maxtoshow, 'first failures. '\n",
    "          'The predicted class is shown first and the correct class in parenthesis.')\n",
    "    ii = 0\n",
    "    plt.figure(figsize=(maxtoshow, 1))\n",
    "    for i in range(X_test.shape[0]):\n",
    "        if ii>=maxtoshow:\n",
    "            break\n",
    "        if errors[i]:\n",
    "            if trueclass is not None and y_test[i] != trueclass:\n",
    "                continue\n",
    "            if predictedclass is not None and predictions[i] != predictedclass:\n",
    "                continue\n",
    "            plt.subplot(1, maxtoshow, ii+1)\n",
    "            plt.axis('off')\n",
    "            plt.imshow(X_test[i,:,:], cmap=\"gray\")\n",
    "            plt.title(\"%d (%d)\" % (predictions[i], y_test[i]))\n",
    "            ii = ii + 1"
   ]
  },
  {
   "cell_type": "code",
   "execution_count": 12,
   "metadata": {
    "collapsed": false,
    "deletable": true,
    "editable": true
   },
   "outputs": [
    {
     "name": "stdout",
     "output_type": "stream",
     "text": [
      "Showing max 10 first failures. The predicted class is shown first and the correct class in parenthesis.\n"
     ]
    },
    {
     "data": {
      "image/png": "[encoded data removed]",
      "text/plain": [
       "<matplotlib.figure.Figure at 0x7fe600b07630>"
      ]
     },
     "metadata": {},
     "output_type": "display_data"
    }
   ],
   "source": [
    "show_failures(pred_rf)"
   ]
  },
  {
   "cell_type": "code",
   "execution_count": 13,
   "metadata": {
    "collapsed": false,
    "deletable": true,
    "editable": true
   },
   "outputs": [
    {
     "name": "stdout",
     "output_type": "stream",
     "text": [
      "Confusion matrix (rows: true classes; columns: predicted classes):\n",
      "\n",
      "[[ 973    0    0    0    0    1    1    1    3    1]\n",
      " [   1 1121    2    4    0    2    3    1    1    0]\n",
      " [  15    2  978    7    4    1    3   15    6    1]\n",
      " [   0    1   17  947    1   16    2    8   13    5]\n",
      " [   3    0    4    0  940    0    3    3    7   22]\n",
      " [   6    2    4   30    3  826    9    3    8    1]\n",
      " [  11    4    2    2    5   11  917    0    6    0]\n",
      " [   2    8   20    8    5    0    0  967    3   15]\n",
      " [   4    4   10   26   13   17    5    7  879    9]\n",
      " [   6    8    6   11   26    5    0   10    9  928]]\n",
      "\n",
      "Luokittelutarkkuus jokaiselle luokalle.\n",
      "\n",
      "0: 0.9929\n",
      "1: 0.9877\n",
      "2: 0.9477\n",
      "3: 0.9376\n",
      "4: 0.9572\n",
      "5: 0.9260\n",
      "6: 0.9572\n",
      "7: 0.9407\n",
      "8: 0.9025\n",
      "9: 0.9197\n"
     ]
    }
   ],
   "source": [
    "print(\"Confusion matrix (rows: true classes; columns: predicted classes):\"); print()\n",
    "cm = confusion_matrix(y_test, pred_rf, labels = list(range(10)))\n",
    "print(cm); print()\n",
    "\n",
    "print(\"Luokittelutarkkuus jokaiselle luokalle.\"); print()\n",
    "for i, j in enumerate(cm.diagonal() / cm.sum(axis = 1)):\n",
    "    print(\"%d: %.4f\" % (i,j))"
   ]
  },
  {
   "cell_type": "code",
   "execution_count": 14,
   "metadata": {
    "collapsed": false,
    "deletable": true,
    "editable": true
   },
   "outputs": [
    {
     "name": "stdout",
     "output_type": "stream",
     "text": [
      "             precision    recall  f1-score   support\n",
      "\n",
      "          0       0.95      0.99      0.97       980\n",
      "          1       0.97      0.99      0.98      1135\n",
      "          2       0.94      0.95      0.94      1032\n",
      "          3       0.91      0.94      0.93      1010\n",
      "          4       0.94      0.96      0.95       982\n",
      "          5       0.94      0.93      0.93       892\n",
      "          6       0.97      0.96      0.96       958\n",
      "          7       0.95      0.94      0.95      1028\n",
      "          8       0.94      0.90      0.92       974\n",
      "          9       0.95      0.92      0.93      1009\n",
      "\n",
      "avg / total       0.95      0.95      0.95     10000\n",
      "\n"
     ]
    }
   ],
   "source": [
    "print(classification_report(y_test, pred_rf, labels = list(range(10))))"
   ]
  },
  {
   "cell_type": "code",
   "execution_count": 15,
   "metadata": {
    "collapsed": false,
    "deletable": true,
    "editable": true,
    "scrolled": true
   },
   "outputs": [
    {
     "name": "stdout",
     "output_type": "stream",
     "text": [
      "Showing max 10 first failures. The predicted class is shown first and the correct class in parenthesis.\n"
     ]
    },
    {
     "data": {
      "image/png": "[encoded data removed]",
      "text/plain": [
       "<matplotlib.figure.Figure at 0x7fe6008630f0>"
      ]
     },
     "metadata": {},
     "output_type": "display_data"
    }
   ],
   "source": [
    "show_failures(pred_df, trueclass=5)"
   ]
  },
  {
   "cell_type": "markdown",
   "metadata": {
    "deletable": true,
    "editable": true
   },
   "source": [
    "### XGBoost"
   ]
  },
  {
   "cell_type": "code",
   "execution_count": 16,
   "metadata": {
    "collapsed": false,
    "deletable": true,
    "editable": true
   },
   "outputs": [
    {
     "name": "stdout",
     "output_type": "stream",
     "text": [
      "XGBClassifier(base_score=0.5, colsample_bylevel=1, colsample_bytree=1,\n",
      "       gamma=0, learning_rate=0.1, max_delta_step=0, max_depth=3,\n",
      "       min_child_weight=1, missing=None, n_estimators=100, nthread=-1,\n",
      "       objective='multi:softprob', reg_alpha=0, reg_lambda=1,\n",
      "       scale_pos_weight=1, seed=0, silent=True, subsample=1)\n",
      "Aikaa kului: 101.79s\n"
     ]
    }
   ],
   "source": [
    "t0 = time()\n",
    "clf_xgb = XGBClassifier()\n",
    "print(clf_xgb.fit(X_train[:10000,:,:].reshape(-1,28*28), y_train[:10000]))\n",
    "print(\"Aikaa kului: %.2fs\" % (time()-t0))"
   ]
  },
  {
   "cell_type": "code",
   "execution_count": 18,
   "metadata": {
    "collapsed": false,
    "deletable": true,
    "editable": true
   },
   "outputs": [
    {
     "name": "stdout",
     "output_type": "stream",
     "text": [
      "Ennakoitu 10000 numeroa tarkkuudella 0.9272\n"
     ]
    }
   ],
   "source": [
    "pred_xgb = clf_xgb.predict(X_test.reshape(-1,28*28))\n",
    "print(\"Ennakoitu\", len(pred_xgb), \"numeroa tarkkuudella\", accuracy_score(y_test, pred_xgb))"
   ]
  }
 ],
 "metadata": {
  "kernelspec": {
   "display_name": "Python 3",
   "language": "python",
   "name": "python3"
  },
  "language_info": {
   "codemirror_mode": {
    "name": "ipython",
    "version": 3
   },
   "file_extension": ".py",
   "mimetype": "text/x-python",
   "name": "python",
   "nbconvert_exporter": "python",
   "pygments_lexer": "ipython3",
   "version": "3.5.3"
  }
 },
 "nbformat": 4,
 "nbformat_minor": 2
}
