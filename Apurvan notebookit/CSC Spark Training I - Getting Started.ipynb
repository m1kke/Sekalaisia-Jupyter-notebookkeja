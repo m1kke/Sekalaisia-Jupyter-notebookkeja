{
 "cells": [
  {
   "cell_type": "code",
   "execution_count": 1,
   "metadata": {
    "collapsed": false
   },
   "outputs": [
    {
     "data": {
      "text/plain": [
       "('GoT.txt', <http.client.HTTPMessage at 0x7f5019b75780>)"
      ]
     },
     "execution_count": 1,
     "metadata": {},
     "output_type": "execute_result"
    }
   ],
   "source": [
    "import urllib.request as urllib\n",
    "urllib.urlretrieve (\"https://kannu.csc.fi/index.php/s/2FKIuCYWfzdc2hn/download\", \"HP.txt\")\n",
    "urllib.urlretrieve (\"https://kannu.csc.fi/index.php/s/oU72rsNmnDqJn0d/download\", \"GoT.txt\")"
   ]
  },
  {
   "cell_type": "code",
   "execution_count": 2,
   "metadata": {
    "collapsed": true
   },
   "outputs": [],
   "source": [
    "from pyspark import SparkContext\n",
    "sc = SparkContext()"
   ]
  },
  {
   "cell_type": "markdown",
   "metadata": {},
   "source": [
    "## CREATING RDDs USING PYTHON COLLECTIONS"
   ]
  },
  {
   "cell_type": "code",
   "execution_count": 3,
   "metadata": {
    "collapsed": false
   },
   "outputs": [
    {
     "data": {
      "text/plain": [
       "ParallelCollectionRDD[0] at parallelize at PythonRDD.scala:423"
      ]
     },
     "execution_count": 3,
     "metadata": {},
     "output_type": "execute_result"
    }
   ],
   "source": [
    "sc.parallelize(['this', 'is', 'an', 'example'])"
   ]
  },
  {
   "cell_type": "code",
   "execution_count": 8,
   "metadata": {
    "collapsed": false,
    "scrolled": false
   },
   "outputs": [
    {
     "data": {
      "text/plain": [
       "99"
      ]
     },
     "execution_count": 8,
     "metadata": {},
     "output_type": "execute_result"
    }
   ],
   "source": [
    "range_rdd = sc.parallelize(range(1,100))\n",
    "#range_rdd.collect() #muuttaa rdd:n takaisin python listaksi, pakko tehdä jos haluaa nähdä sisällön\n",
    "range_rdd.count()"
   ]
  },
  {
   "cell_type": "markdown",
   "metadata": {},
   "source": [
    "## CREATING RDDs USING TEXT FILES"
   ]
  },
  {
   "cell_type": "code",
   "execution_count": 9,
   "metadata": {
    "collapsed": true
   },
   "outputs": [],
   "source": [
    "rdd_hp = sc.textFile('HP.txt')"
   ]
  },
  {
   "cell_type": "code",
   "execution_count": 10,
   "metadata": {
    "collapsed": false
   },
   "outputs": [
    {
     "data": {
      "text/plain": [
       "MapPartitionsRDD[9] at textFile at NativeMethodAccessorImpl.java:-2"
      ]
     },
     "execution_count": 10,
     "metadata": {},
     "output_type": "execute_result"
    }
   ],
   "source": [
    "rdd_hp # Check the type of the RDD"
   ]
  },
  {
   "cell_type": "code",
   "execution_count": 11,
   "metadata": {
    "collapsed": false
   },
   "outputs": [
    {
     "data": {
      "text/plain": [
       "['The place where things are hidden',\n",
       " 'If you have to ask you will never know',\n",
       " 'If you know you need only ask',\n",
       " 'The hidden room of requirement']"
      ]
     },
     "execution_count": 11,
     "metadata": {},
     "output_type": "execute_result"
    }
   ],
   "source": [
    "# Check the contents of the rdd created\n",
    "rdd_hp.collect()"
   ]
  },
  {
   "cell_type": "code",
   "execution_count": 12,
   "metadata": {
    "collapsed": false
   },
   "outputs": [
    {
     "data": {
      "text/plain": [
       "4"
      ]
     },
     "execution_count": 12,
     "metadata": {},
     "output_type": "execute_result"
    }
   ],
   "source": [
    "# Check the total elements in the RDD\n",
    "rdd_hp.count()"
   ]
  },
  {
   "cell_type": "markdown",
   "metadata": {},
   "source": [
    "## SPARK TRANSFORMATIONS & ACTIONS"
   ]
  },
  {
   "cell_type": "markdown",
   "metadata": {},
   "source": [
    "#### map(func) : Return a new distributed dataset formed by passing each element of the source through a function func. "
   ]
  },
  {
   "cell_type": "code",
   "execution_count": 13,
   "metadata": {
    "collapsed": false
   },
   "outputs": [
    {
     "data": {
      "text/plain": [
       "[(1, 1), (2, 2), (3, 3), (4, 4), (5, 5), (6, 6), (7, 7), (8, 8), (9, 9)]"
      ]
     },
     "execution_count": 13,
     "metadata": {},
     "output_type": "execute_result"
    }
   ],
   "source": [
    "ten_range_rdd = sc.parallelize(range(1,10)) # [1,2,.....9]\n",
    "ten_range_rdd_mapped = ten_range_rdd.map(lambda x: (x, x)) # RDD created from an RDD\n",
    "ten_range_rdd_mapped.collect()  # collect is an action!"
   ]
  },
  {
   "cell_type": "code",
   "execution_count": null,
   "metadata": {
    "collapsed": true
   },
   "outputs": [],
   "source": [
    "#lambda lyhentää kirjoittamista\n",
    "#def nimi(x):\n",
    "#    return (x, x)"
   ]
  },
  {
   "cell_type": "code",
   "execution_count": 14,
   "metadata": {
    "collapsed": false
   },
   "outputs": [
    {
     "name": "stdout",
     "output_type": "stream",
     "text": [
      "[(2, 1), (4, 2), (6, 3), (8, 4), (10, 5), (12, 6), (14, 7), (16, 8), (18, 9)]\n"
     ]
    }
   ],
   "source": [
    "ten_range_rdd_mapped_again = ten_range_rdd_mapped.map(lambda x: (x[0]*2, x[1])).collect() # Python collection\n",
    "print(ten_range_rdd_mapped_again)"
   ]
  },
  {
   "cell_type": "markdown",
   "metadata": {},
   "source": [
    "#### flatMap(func) : Similar to map, but flattens the final result. "
   ]
  },
  {
   "cell_type": "code",
   "execution_count": 16,
   "metadata": {
    "collapsed": false
   },
   "outputs": [
    {
     "data": {
      "text/plain": [
       "[1, 2, 2, 3, 3, 4, 4, 5, 5, 6, 6, 7, 7, 8, 8, 9, 9, 10]"
      ]
     },
     "execution_count": 16,
     "metadata": {},
     "output_type": "execute_result"
    }
   ],
   "source": [
    "ten_range_rdd_flatmapped = ten_range_rdd_mapped.flatMap(lambda x: (x[0], x[1] + 1))\n",
    "ten_range_rdd_flatmapped.collect()"
   ]
  },
  {
   "cell_type": "markdown",
   "metadata": {},
   "source": [
    "#### filter(func) : return a new dataset formed by selecting those elements of the source on which func returns true. "
   ]
  },
  {
   "cell_type": "code",
   "execution_count": 17,
   "metadata": {
    "collapsed": false
   },
   "outputs": [
    {
     "data": {
      "text/plain": [
       "['The place where things are hidden',\n",
       " 'If you have to ask you will never know',\n",
       " 'If you know you need only ask',\n",
       " 'The hidden room of requirement']"
      ]
     },
     "execution_count": 17,
     "metadata": {},
     "output_type": "execute_result"
    }
   ],
   "source": [
    "rdd_hp.collect() # Get back to the RDD we created"
   ]
  },
  {
   "cell_type": "code",
   "execution_count": 18,
   "metadata": {
    "collapsed": false
   },
   "outputs": [
    {
     "data": {
      "text/plain": [
       "['If you have to ask you will never know', 'If you know you need only ask']"
      ]
     },
     "execution_count": 18,
     "metadata": {},
     "output_type": "execute_result"
    }
   ],
   "source": [
    "rdd_hp_filtered = rdd_hp.filter(lambda line: line.startswith('If'))\n",
    "rdd_hp_filtered.collect()"
   ]
  },
  {
   "cell_type": "markdown",
   "metadata": {},
   "source": [
    "##### USER EXERCISE"
   ]
  },
  {
   "cell_type": "code",
   "execution_count": 23,
   "metadata": {
    "collapsed": false
   },
   "outputs": [
    {
     "data": {
      "text/plain": [
       "['THE PLACE WHERE THINGS ARE HIDDEN',\n",
       " 'IF YOU HAVE TO ASK YOU WILL NEVER KNOW',\n",
       " 'IF YOU KNOW YOU NEED ONLY ASK',\n",
       " 'THE HIDDEN ROOM OF REQUIREMENT']"
      ]
     },
     "execution_count": 23,
     "metadata": {},
     "output_type": "execute_result"
    }
   ],
   "source": [
    "#Convert all the lines to Uppercase\n",
    "rdd_hp_upper = rdd_hp.map(lambda line: line.upper())\n",
    "rdd_hp_upper.collect()"
   ]
  },
  {
   "cell_type": "code",
   "execution_count": 26,
   "metadata": {
    "collapsed": false
   },
   "outputs": [
    {
     "data": {
      "text/plain": [
       "['If you have to ask you will never know', 'If you know you need only ask']"
      ]
     },
     "execution_count": 26,
     "metadata": {},
     "output_type": "execute_result"
    }
   ],
   "source": [
    "# Remove the lines which contain the word \"HIDDEN” in it\n",
    "rdd_no_hidden = rdd_hp.filter(lambda line: \"hidden\" not in line)\n",
    "rdd_no_hidden.collect()"
   ]
  },
  {
   "cell_type": "code",
   "execution_count": 70,
   "metadata": {
    "collapsed": true
   },
   "outputs": [
    {
     "data": {
      "text/plain": [
       "['The',\n",
       " 'place',\n",
       " 'where',\n",
       " 'things',\n",
       " 'are',\n",
       " 'hidden',\n",
       " 'If',\n",
       " 'you',\n",
       " 'have',\n",
       " 'to',\n",
       " 'ask',\n",
       " 'you',\n",
       " 'will',\n",
       " 'never',\n",
       " 'know',\n",
       " 'If',\n",
       " 'you',\n",
       " 'know',\n",
       " 'you',\n",
       " 'need',\n",
       " 'only',\n",
       " 'ask',\n",
       " 'The',\n",
       " 'hidden',\n",
       " 'room',\n",
       " 'of',\n",
       " 'requirement']"
      ]
     },
     "execution_count": 70,
     "metadata": {},
     "output_type": "execute_result"
    }
   ],
   "source": [
    "# Arrange all the words in a single list using a one-liner and count the total number of words\n",
    "rdd_one_liner = rdd_hp.flatMap(lambda x: x.split())\n",
    "rdd_one_liner.collect()"
   ]
  },
  {
   "cell_type": "code",
   "execution_count": 72,
   "metadata": {
    "collapsed": true
   },
   "outputs": [
    {
     "data": {
      "text/plain": [
       "[('The', 3),\n",
       " ('place', 5),\n",
       " ('where', 5),\n",
       " ('things', 6),\n",
       " ('are', 3),\n",
       " ('hidden', 6),\n",
       " ('If', 2),\n",
       " ('you', 3),\n",
       " ('have', 4),\n",
       " ('to', 2),\n",
       " ('ask', 3),\n",
       " ('you', 3),\n",
       " ('will', 4),\n",
       " ('never', 5),\n",
       " ('know', 4),\n",
       " ('If', 2),\n",
       " ('you', 3),\n",
       " ('know', 4),\n",
       " ('you', 3),\n",
       " ('need', 4),\n",
       " ('only', 4),\n",
       " ('ask', 3),\n",
       " ('The', 3),\n",
       " ('hidden', 6),\n",
       " ('room', 4),\n",
       " ('of', 2),\n",
       " ('requirement', 11)]"
      ]
     },
     "execution_count": 72,
     "metadata": {},
     "output_type": "execute_result"
    }
   ],
   "source": [
    "# Arrange the words with the length of each word in a tuple for eg. (\"word\", 4)\n",
    "rdd_results = rdd_one_liner.map(lambda x: (x, len(x)))\n",
    "rdd_results.collect()"
   ]
  },
  {
   "cell_type": "markdown",
   "metadata": {},
   "source": [
    "#### groupByKey() : When called on a dataset of (K, V) pairs, returns a dataset of (K, Iterable &lt;V&gt;) pairs. "
   ]
  },
  {
   "cell_type": "code",
   "execution_count": 73,
   "metadata": {
    "collapsed": false
   },
   "outputs": [
    {
     "data": {
      "text/plain": [
       "[('Finland', 'Helsinki'),\n",
       " ('Norway', 'Oslo'),\n",
       " ('Sweden', 'Stockholm'),\n",
       " ('Denmark', 'Copenhagen'),\n",
       " ('Norway', 'Bergen'),\n",
       " ('Finland', 'Tampere'),\n",
       " ('Denmark', 'Aarhus'),\n",
       " ('Finland', 'Turku')]"
      ]
     },
     "execution_count": 73,
     "metadata": {},
     "output_type": "execute_result"
    }
   ],
   "source": [
    "rdd_places = sc.parallelize([(\"Finland\", \"Helsinki\"), (\"Norway\", \"Oslo\"), (\"Sweden\", \"Stockholm\"),\n",
    "                             (\"Denmark\", \"Copenhagen\"), (\"Norway\", \"Bergen\"), (\"Finland\", \"Tampere\"),\n",
    "                             (\"Denmark\", \"Aarhus\"), (\"Finland\", \"Turku\")])\n",
    "rdd_places.collect()"
   ]
  },
  {
   "cell_type": "code",
   "execution_count": 74,
   "metadata": {
    "collapsed": true
   },
   "outputs": [
    {
     "data": {
      "text/plain": [
       "[('Denmark', <pyspark.resultiterable.ResultIterable at 0x7f5007068208>),\n",
       " ('Finland', <pyspark.resultiterable.ResultIterable at 0x7f5007068710>),\n",
       " ('Sweden', <pyspark.resultiterable.ResultIterable at 0x7f5007068438>),\n",
       " ('Norway', <pyspark.resultiterable.ResultIterable at 0x7f50070687f0>)]"
      ]
     },
     "execution_count": 74,
     "metadata": {},
     "output_type": "execute_result"
    }
   ],
   "source": [
    "rdd_places_grouped = rdd_places.groupByKey()\n",
    "rdd_places_grouped.collect()"
   ]
  },
  {
   "cell_type": "code",
   "execution_count": 75,
   "metadata": {
    "collapsed": false
   },
   "outputs": [
    {
     "data": {
      "text/plain": [
       "[('Denmark', ['Copenhagen', 'Aarhus']),\n",
       " ('Finland', ['Helsinki', 'Tampere', 'Turku']),\n",
       " ('Sweden', ['Stockholm']),\n",
       " ('Norway', ['Oslo', 'Bergen'])]"
      ]
     },
     "execution_count": 75,
     "metadata": {},
     "output_type": "execute_result"
    }
   ],
   "source": [
    "# User readable format\n",
    "rdd_places_grouped.mapValues(list).collect()"
   ]
  },
  {
   "cell_type": "markdown",
   "metadata": {},
   "source": [
    "#### join(otherDataset, [numTasks]) : When called on datasets of type (K, V) and (K, W), returns a dataset of (K, (V, W)) pairs with all pairs of elements for each key. Outer joins are also supported"
   ]
  },
  {
   "cell_type": "code",
   "execution_count": 78,
   "metadata": {
    "collapsed": false
   },
   "outputs": [
    {
     "data": {
      "text/plain": [
       "[('Finland', 'Espoo'),\n",
       " ('Norway', 'Stavanger'),\n",
       " ('Sweden', 'Gothenburg'),\n",
       " ('Finland', 'Vantaa')]"
      ]
     },
     "execution_count": 78,
     "metadata": {},
     "output_type": "execute_result"
    }
   ],
   "source": [
    "rdd_places_other = sc.parallelize([(\"Finland\", \"Espoo\"), (\"Norway\", \"Stavanger\"), (\"Sweden\", \"Gothenburg\"), (\"Finland\", \"Vantaa\")])\n",
    "rdd_places_other.collect()"
   ]
  },
  {
   "cell_type": "code",
   "execution_count": 79,
   "metadata": {
    "collapsed": false
   },
   "outputs": [
    {
     "data": {
      "text/plain": [
       "[('Norway', ('Oslo', 'Stavanger')),\n",
       " ('Norway', ('Bergen', 'Stavanger')),\n",
       " ('Finland', ('Helsinki', 'Espoo')),\n",
       " ('Finland', ('Helsinki', 'Vantaa')),\n",
       " ('Finland', ('Tampere', 'Espoo')),\n",
       " ('Finland', ('Tampere', 'Vantaa')),\n",
       " ('Finland', ('Turku', 'Espoo')),\n",
       " ('Finland', ('Turku', 'Vantaa')),\n",
       " ('Sweden', ('Stockholm', 'Gothenburg'))]"
      ]
     },
     "execution_count": 79,
     "metadata": {},
     "output_type": "execute_result"
    }
   ],
   "source": [
    "rdd_places.join(rdd_places_other).collect()"
   ]
  },
  {
   "cell_type": "code",
   "execution_count": 80,
   "metadata": {
    "collapsed": false
   },
   "outputs": [
    {
     "data": {
      "text/plain": [
       "[('Norway', (['Oslo', 'Bergen'], 'Stavanger')),\n",
       " ('Finland', (['Helsinki', 'Tampere', 'Turku'], 'Espoo')),\n",
       " ('Finland', (['Helsinki', 'Tampere', 'Turku'], 'Vantaa')),\n",
       " ('Sweden', (['Stockholm'], 'Gothenburg'))]"
      ]
     },
     "execution_count": 80,
     "metadata": {},
     "output_type": "execute_result"
    }
   ],
   "source": [
    "rdd_places_grouped.mapValues(list).join(rdd_places_other).collect()"
   ]
  },
  {
   "cell_type": "markdown",
   "metadata": {},
   "source": [
    "#### cogroup(otherDataset, [numTasks]) : When called on datasets of type (K, V) and (K, W), returns a dataset of (K, (Iterable&lt;V&gt; , Iterable&lt;W&gt;)) tuples."
   ]
  },
  {
   "cell_type": "code",
   "execution_count": 83,
   "metadata": {
    "collapsed": false
   },
   "outputs": [
    {
     "data": {
      "text/plain": [
       "[('Denmark',\n",
       "  (<pyspark.resultiterable.ResultIterable at 0x7f5007170ef0>,\n",
       "   <pyspark.resultiterable.ResultIterable at 0x7f500705ec88>)),\n",
       " ('Norway',\n",
       "  (<pyspark.resultiterable.ResultIterable at 0x7f5007170898>,\n",
       "   <pyspark.resultiterable.ResultIterable at 0x7f500705e0f0>)),\n",
       " ('Finland',\n",
       "  (<pyspark.resultiterable.ResultIterable at 0x7f500705ec18>,\n",
       "   <pyspark.resultiterable.ResultIterable at 0x7f500705e4e0>)),\n",
       " ('Sweden',\n",
       "  (<pyspark.resultiterable.ResultIterable at 0x7f500705e128>,\n",
       "   <pyspark.resultiterable.ResultIterable at 0x7f500705ef28>))]"
      ]
     },
     "execution_count": 83,
     "metadata": {},
     "output_type": "execute_result"
    }
   ],
   "source": [
    "rdd_places_other_cogrouped = rdd_places.cogroup(rdd_places_other)\n",
    "rdd_places_other_cogrouped.collect()"
   ]
  },
  {
   "cell_type": "code",
   "execution_count": 82,
   "metadata": {
    "collapsed": false
   },
   "outputs": [
    {
     "data": {
      "text/plain": [
       "[('Denmark', (['Copenhagen', 'Aarhus'], [])),\n",
       " ('Norway', (['Oslo', 'Bergen'], ['Stavanger'])),\n",
       " ('Finland', (['Helsinki', 'Tampere', 'Turku'], ['Espoo', 'Vantaa'])),\n",
       " ('Sweden', (['Stockholm'], ['Gothenburg']))]"
      ]
     },
     "execution_count": 82,
     "metadata": {},
     "output_type": "execute_result"
    }
   ],
   "source": [
    "rdd_places_other_cogrouped.map(lambda x: (x[0], (list(x[1][0]), list(x[1][1])))).collect()"
   ]
  },
  {
   "cell_type": "markdown",
   "metadata": {},
   "source": [
    "#### sortByKey([ascending], [numTasks]) : When called on a dataset of (K, V) pairs, returns a dataset of (K, V) pairs sorted by keys in ascending or descending order, as specified in the boolean ascending argument."
   ]
  },
  {
   "cell_type": "code",
   "execution_count": 84,
   "metadata": {
    "collapsed": false
   },
   "outputs": [
    {
     "data": {
      "text/plain": [
       "[('Denmark', 'Copenhagen'),\n",
       " ('Denmark', 'Aarhus'),\n",
       " ('Finland', 'Helsinki'),\n",
       " ('Finland', 'Tampere'),\n",
       " ('Finland', 'Turku'),\n",
       " ('Norway', 'Oslo'),\n",
       " ('Norway', 'Bergen'),\n",
       " ('Sweden', 'Stockholm')]"
      ]
     },
     "execution_count": 84,
     "metadata": {},
     "output_type": "execute_result"
    }
   ],
   "source": [
    "# Sort by key\n",
    "rdd_places.sortByKey().collect()"
   ]
  },
  {
   "cell_type": "markdown",
   "metadata": {},
   "source": [
    "#### reduceByKey(func, [numTasks]) \tWhen called on a dataset of (K, V) pairs, returns a dataset of (K, V) pairs where the values for each key are aggregated using the given reduce function func, which must be of type (V,V) => V."
   ]
  },
  {
   "cell_type": "code",
   "execution_count": 89,
   "metadata": {
    "collapsed": false
   },
   "outputs": [
    {
     "data": {
      "text/plain": [
       "[('Ronaldo', 3), ('Messi', 4), ('Suarez', 2)]"
      ]
     },
     "execution_count": 89,
     "metadata": {},
     "output_type": "execute_result"
    }
   ],
   "source": [
    "rdd_reduce_example = sc.parallelize([(\"Messi\", 2), (\"Suarez\", 2), (\"Ronaldo\", 0), (\"Ronaldo\", 3), (\"Messi\", 2)])\n",
    "rdd_reduce_example_reduced = rdd_reduce_example.reduceByKey(lambda a,b: a+b)\n",
    "rdd_reduce_example_reduced.collect()"
   ]
  },
  {
   "cell_type": "code",
   "execution_count": 88,
   "metadata": {
    "collapsed": false
   },
   "outputs": [
    {
     "data": {
      "text/plain": [
       "[('Ronaldo', 0), ('Messi', 2), ('Suarez', 2), ('Messi', 2), ('Ronaldo', 3)]"
      ]
     },
     "execution_count": 88,
     "metadata": {},
     "output_type": "execute_result"
    }
   ],
   "source": [
    "# Sort by value\n",
    "rdd_reduce_example.sortBy(lambda x: x[1]).collect()"
   ]
  },
  {
   "cell_type": "markdown",
   "metadata": {},
   "source": [
    "## SOME RDD ACTIONS"
   ]
  },
  {
   "cell_type": "code",
   "execution_count": 90,
   "metadata": {
    "collapsed": false
   },
   "outputs": [
    {
     "data": {
      "text/plain": [
       "[('Finland', 'Helsinki'),\n",
       " ('Norway', 'Oslo'),\n",
       " ('Sweden', 'Stockholm'),\n",
       " ('Denmark', 'Copenhagen'),\n",
       " ('Norway', 'Bergen'),\n",
       " ('Finland', 'Tampere'),\n",
       " ('Denmark', 'Aarhus'),\n",
       " ('Finland', 'Turku')]"
      ]
     },
     "execution_count": 90,
     "metadata": {},
     "output_type": "execute_result"
    }
   ],
   "source": [
    "rdd_places.collect()"
   ]
  },
  {
   "cell_type": "code",
   "execution_count": 91,
   "metadata": {
    "collapsed": false
   },
   "outputs": [
    {
     "data": {
      "text/plain": [
       "8"
      ]
     },
     "execution_count": 91,
     "metadata": {},
     "output_type": "execute_result"
    }
   ],
   "source": [
    "rdd_places.count()"
   ]
  },
  {
   "cell_type": "code",
   "execution_count": 92,
   "metadata": {
    "collapsed": false
   },
   "outputs": [
    {
     "data": {
      "text/plain": [
       "('Finland', 'Helsinki')"
      ]
     },
     "execution_count": 92,
     "metadata": {},
     "output_type": "execute_result"
    }
   ],
   "source": [
    "rdd_places.first()"
   ]
  },
  {
   "cell_type": "code",
   "execution_count": 93,
   "metadata": {
    "collapsed": false
   },
   "outputs": [
    {
     "data": {
      "text/plain": [
       "[('Finland', 'Helsinki'), ('Norway', 'Oslo')]"
      ]
     },
     "execution_count": 93,
     "metadata": {},
     "output_type": "execute_result"
    }
   ],
   "source": [
    "rdd_places.take(2)"
   ]
  },
  {
   "cell_type": "code",
   "execution_count": 94,
   "metadata": {
    "collapsed": false
   },
   "outputs": [
    {
     "data": {
      "text/plain": [
       "[('Finland', 'Tampere'), ('Denmark', 'Copenhagen')]"
      ]
     },
     "execution_count": 94,
     "metadata": {},
     "output_type": "execute_result"
    }
   ],
   "source": [
    "rdd_places.takeSample(True, 2)"
   ]
  },
  {
   "cell_type": "code",
   "execution_count": 95,
   "metadata": {
    "collapsed": false
   },
   "outputs": [
    {
     "data": {
      "text/plain": [
       "[('Denmark', 'Aarhus'), ('Denmark', 'Copenhagen')]"
      ]
     },
     "execution_count": 95,
     "metadata": {},
     "output_type": "execute_result"
    }
   ],
   "source": [
    "rdd_places.takeOrdered(2)"
   ]
  },
  {
   "cell_type": "code",
   "execution_count": 96,
   "metadata": {
    "collapsed": false
   },
   "outputs": [
    {
     "data": {
      "text/plain": [
       "defaultdict(int, {'Denmark': 2, 'Finland': 3, 'Norway': 2, 'Sweden': 1})"
      ]
     },
     "execution_count": 96,
     "metadata": {},
     "output_type": "execute_result"
    }
   ],
   "source": [
    "rdd_places.countByKey()"
   ]
  },
  {
   "cell_type": "code",
   "execution_count": null,
   "metadata": {
    "collapsed": true
   },
   "outputs": [],
   "source": []
  }
 ],
 "metadata": {
  "celltoolbar": "Raw Cell Format",
  "kernelspec": {
   "display_name": "Python 3",
   "language": "python",
   "name": "python3"
  },
  "language_info": {
   "codemirror_mode": {
    "name": "ipython",
    "version": 3
   },
   "file_extension": ".py",
   "mimetype": "text/x-python",
   "name": "python",
   "nbconvert_exporter": "python",
   "pygments_lexer": "ipython3",
   "version": "3.4.3"
  }
 },
 "nbformat": 4,
 "nbformat_minor": 0
}
