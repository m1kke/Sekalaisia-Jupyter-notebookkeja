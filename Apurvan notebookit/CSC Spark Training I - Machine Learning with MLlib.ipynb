{
 "cells": [
  {
   "cell_type": "code",
   "execution_count": 1,
   "metadata": {
    "collapsed": false
   },
   "outputs": [
    {
     "data": {
      "text/plain": [
       "('unbalance.txt', <http.client.HTTPMessage at 0x7f55b81862b0>)"
      ]
     },
     "execution_count": 1,
     "metadata": {},
     "output_type": "execute_result"
    }
   ],
   "source": [
    "import urllib.request\n",
    "urllib.request.urlretrieve (\"http://kdd.ics.uci.edu/databases/kddcup99/kddcup.data_10_percent.gz\", \"kddcup10.data.gz\")\n",
    "urllib.request.urlretrieve(\"http://kdd.ics.uci.edu/databases/kddcup99/corrected.gz\", \"corrected.gz\")\n",
    "urllib.request.urlretrieve('http://cs.joensuu.fi/sipu/datasets/unbalance.txt', 'unbalance.txt')"
   ]
  },
  {
   "cell_type": "code",
   "execution_count": 2,
   "metadata": {
    "collapsed": false
   },
   "outputs": [],
   "source": [
    "from pyspark import SparkContext\n",
    "sc = SparkContext()"
   ]
  },
  {
   "cell_type": "markdown",
   "metadata": {},
   "source": [
    "### NumPy (Numerical Python) - Basics"
   ]
  },
  {
   "cell_type": "code",
   "execution_count": 4,
   "metadata": {
    "collapsed": true
   },
   "outputs": [],
   "source": [
    "import numpy\n",
    "from numpy import array"
   ]
  },
  {
   "cell_type": "code",
   "execution_count": 5,
   "metadata": {
    "collapsed": false
   },
   "outputs": [
    {
     "name": "stdout",
     "output_type": "stream",
     "text": [
      "[[  1   2]\n",
      " [  4   9]\n",
      " [ 10 100]]\n",
      "Add 1 to each element\n",
      "[[  2   3]\n",
      " [  5  10]\n",
      " [ 11 101]]\n",
      "-------\n",
      "Multiply each element by 2\n",
      "[[  2   4]\n",
      " [  8  18]\n",
      " [ 20 200]]\n"
     ]
    }
   ],
   "source": [
    "list_of_list = [[1,2], [4,9], [10,100]]  # list of list\n",
    "# list_of_list + 1\n",
    "# list_of_list * 2\n",
    "\n",
    "# A numpy array is similar to MATLAB matrix\n",
    "numpy_array = array(list_of_list)\n",
    "print(numpy_array)\n",
    "print('Add 1 to each element')\n",
    "print(numpy_array + 1)\n",
    "print('-------')\n",
    "print('Multiply each element by 2')\n",
    "print(numpy_array * 2)"
   ]
  },
  {
   "cell_type": "code",
   "execution_count": 6,
   "metadata": {
    "collapsed": false
   },
   "outputs": [
    {
     "name": "stdout",
     "output_type": "stream",
     "text": [
      "Shape of array is  (3, 2)\n",
      "Rank of array (matrix) is  2\n",
      "Item size is  int64\n",
      "Reshaped Array from 3x2 into 2x3:\n",
      "[[  1   2   4]\n",
      " [  9  10 100]]\n"
     ]
    }
   ],
   "source": [
    "print('Shape of array is ', numpy_array.shape)\n",
    "print('Rank of array (matrix) is ', numpy_array.ndim)\n",
    "print('Item size is ', numpy_array.dtype)\n",
    "print('Reshaped Array from 3x2 into 2x3:')\n",
    "print(numpy_array.reshape(2,3))"
   ]
  },
  {
   "cell_type": "markdown",
   "metadata": {},
   "source": [
    "#### numpy array operations"
   ]
  },
  {
   "cell_type": "code",
   "execution_count": 7,
   "metadata": {
    "collapsed": false
   },
   "outputs": [
    {
     "name": "stdout",
     "output_type": "stream",
     "text": [
      "A\n",
      "[[1 1]\n",
      " [0 1]]\n",
      "B\n",
      "[[2 0]\n",
      " [3 4]]\n",
      "\n",
      "\n",
      "A*B\n",
      "[[2 0]\n",
      " [0 4]]\n",
      "\n",
      "\n",
      "A-B\n",
      "[[-1  1]\n",
      " [-3 -3]]\n",
      "\n",
      "\n",
      "A.B\n",
      "[[5 4]\n",
      " [3 4]]\n"
     ]
    }
   ],
   "source": [
    "A = array( [[1,1],\n",
    "               [0,1]] )\n",
    "B = array( [[2,0],\n",
    "                   [3,4]] )\n",
    "\n",
    "print('A')\n",
    "print(A)\n",
    "print('B')\n",
    "print(B)\n",
    "print('\\n')\n",
    "print('A*B')\n",
    "print(A*B)\n",
    "print('\\n')\n",
    "print('A-B')\n",
    "print(A-B)\n",
    "print('\\n')\n",
    "print('A.B')\n",
    "print(A.dot(B))"
   ]
  },
  {
   "cell_type": "code",
   "execution_count": 8,
   "metadata": {
    "collapsed": false
   },
   "outputs": [
    {
     "name": "stdout",
     "output_type": "stream",
     "text": [
      "Sum of matrix A is  3\n",
      "Sum of matrix B is  9\n",
      "Min element in marix B is  0\n",
      "Max element in marix B is  4\n",
      "Exponential for B is  [[  7.3890561    1.        ]\n",
      " [ 20.08553692  54.59815003]]\n",
      "Exponential for B is  [[ 1.41421356  0.        ]\n",
      " [ 1.73205081  2.        ]]\n"
     ]
    }
   ],
   "source": [
    "# Some more statistical functions\n",
    "print('Sum of matrix A is ', A.sum())\n",
    "print('Sum of matrix B is ', B.sum())\n",
    "print('Min element in marix B is ', B.min())\n",
    "print('Max element in marix B is ', B.max())\n",
    "print('Exponential for B is ', numpy.exp(B))\n",
    "print('Exponential for B is ', numpy.sqrt(B))"
   ]
  },
  {
   "cell_type": "markdown",
   "metadata": {},
   "source": [
    "## 1. Logistic Regression"
   ]
  },
  {
   "cell_type": "markdown",
   "metadata": {},
   "source": [
    "#### Load the training and test data set in raw form"
   ]
  },
  {
   "cell_type": "code",
   "execution_count": 9,
   "metadata": {
    "collapsed": false
   },
   "outputs": [],
   "source": [
    "raw_data = sc.textFile('kddcup10.data.gz')\n",
    "test_raw_data = sc.textFile('corrected.gz')"
   ]
  },
  {
   "cell_type": "code",
   "execution_count": 11,
   "metadata": {
    "collapsed": true
   },
   "outputs": [
    {
     "data": {
      "text/plain": [
       "['0,tcp,http,SF,181,5450,0,0,0,0,0,1,0,0,0,0,0,0,0,0,0,0,8,8,0.00,0.00,0.00,0.00,1.00,0.00,0.00,9,9,1.00,0.00,0.11,0.00,0.00,0.00,0.00,0.00,normal.',\n",
       " '0,tcp,http,SF,239,486,0,0,0,0,0,1,0,0,0,0,0,0,0,0,0,0,8,8,0.00,0.00,0.00,0.00,1.00,0.00,0.00,19,19,1.00,0.00,0.05,0.00,0.00,0.00,0.00,0.00,normal.',\n",
       " '0,tcp,http,SF,235,1337,0,0,0,0,0,1,0,0,0,0,0,0,0,0,0,0,8,8,0.00,0.00,0.00,0.00,1.00,0.00,0.00,29,29,1.00,0.00,0.03,0.00,0.00,0.00,0.00,0.00,normal.',\n",
       " '0,tcp,http,SF,219,1337,0,0,0,0,0,1,0,0,0,0,0,0,0,0,0,0,6,6,0.00,0.00,0.00,0.00,1.00,0.00,0.00,39,39,1.00,0.00,0.03,0.00,0.00,0.00,0.00,0.00,normal.',\n",
       " '0,tcp,http,SF,217,2032,0,0,0,0,0,1,0,0,0,0,0,0,0,0,0,0,6,6,0.00,0.00,0.00,0.00,1.00,0.00,0.00,49,49,1.00,0.00,0.02,0.00,0.00,0.00,0.00,0.00,normal.',\n",
       " '0,tcp,http,SF,217,2032,0,0,0,0,0,1,0,0,0,0,0,0,0,0,0,0,6,6,0.00,0.00,0.00,0.00,1.00,0.00,0.00,59,59,1.00,0.00,0.02,0.00,0.00,0.00,0.00,0.00,normal.',\n",
       " '0,tcp,http,SF,212,1940,0,0,0,0,0,1,0,0,0,0,0,0,0,0,0,0,1,2,0.00,0.00,0.00,0.00,1.00,0.00,1.00,1,69,1.00,0.00,1.00,0.04,0.00,0.00,0.00,0.00,normal.',\n",
       " '0,tcp,http,SF,159,4087,0,0,0,0,0,1,0,0,0,0,0,0,0,0,0,0,5,5,0.00,0.00,0.00,0.00,1.00,0.00,0.00,11,79,1.00,0.00,0.09,0.04,0.00,0.00,0.00,0.00,normal.',\n",
       " '0,tcp,http,SF,210,151,0,0,0,0,0,1,0,0,0,0,0,0,0,0,0,0,8,8,0.00,0.00,0.00,0.00,1.00,0.00,0.00,8,89,1.00,0.00,0.12,0.04,0.00,0.00,0.00,0.00,normal.',\n",
       " '0,tcp,http,SF,212,786,0,0,0,1,0,1,0,0,0,0,0,0,0,0,0,0,8,8,0.00,0.00,0.00,0.00,1.00,0.00,0.00,8,99,1.00,0.00,0.12,0.05,0.00,0.00,0.00,0.00,normal.']"
      ]
     },
     "execution_count": 11,
     "metadata": {},
     "output_type": "execute_result"
    }
   ],
   "source": [
    "raw_data.take(10)  # Check how the data looks like"
   ]
  },
  {
   "cell_type": "code",
   "execution_count": 12,
   "metadata": {
    "collapsed": true
   },
   "outputs": [
    {
     "data": {
      "text/plain": [
       "['184,tcp,telnet,SF,1511,2957,0,0,0,3,0,1,2,1,0,0,1,0,0,0,0,0,1,1,0.00,0.00,0.00,0.00,1.00,0.00,0.00,1,3,1.00,0.00,1.00,0.67,0.00,0.00,0.00,0.00,buffer_overflow.',\n",
       " '305,tcp,telnet,SF,1735,2766,0,0,0,3,0,1,2,1,0,0,1,0,0,0,0,0,1,1,0.00,0.00,0.00,0.00,1.00,0.00,0.00,2,4,1.00,0.00,0.50,0.50,0.00,0.00,0.00,0.00,buffer_overflow.',\n",
       " '79,tcp,telnet,SF,281,1301,0,0,0,2,0,1,1,1,0,0,4,2,0,0,0,0,1,1,0.00,0.00,0.00,0.00,1.00,0.00,0.00,1,10,1.00,0.00,1.00,0.30,0.00,0.00,0.00,0.10,loadmodule.',\n",
       " '25,tcp,telnet,SF,269,2333,0,0,0,0,0,1,0,1,0,2,2,1,0,0,0,0,1,1,0.00,0.00,0.00,0.00,1.00,0.00,0.00,69,2,0.03,0.06,0.01,0.00,0.00,0.00,0.00,0.00,perl.',\n",
       " '0,tcp,telnet,S0,0,0,0,0,0,0,0,0,0,0,0,0,0,0,0,0,0,0,6,5,0.83,1.00,0.00,0.00,0.83,0.33,0.00,5,6,1.00,0.00,0.20,0.33,1.00,0.83,0.00,0.00,neptune.',\n",
       " '0,tcp,telnet,S0,0,0,0,0,0,0,0,0,0,0,0,0,0,0,0,0,0,0,16,15,0.94,1.00,0.00,0.00,0.94,0.12,0.00,15,16,1.00,0.00,0.07,0.12,1.00,0.94,0.00,0.00,neptune.',\n",
       " '0,icmp,ecr_i,SF,1032,0,0,0,0,0,0,0,0,0,0,0,0,0,0,0,0,0,316,316,0.00,0.00,0.00,0.00,1.00,0.00,0.00,148,3,0.02,0.02,0.02,0.00,0.00,0.00,0.00,0.00,smurf.',\n",
       " '0,icmp,ecr_i,SF,1032,0,0,0,0,0,0,0,0,0,0,0,0,0,0,0,0,0,511,511,0.00,0.00,0.00,0.00,1.00,0.00,0.00,158,13,0.08,0.02,0.08,0.00,0.00,0.00,0.00,0.00,smurf.',\n",
       " '0,icmp,ecr_i,SF,1032,0,0,0,0,0,0,0,0,0,0,0,0,0,0,0,0,0,511,511,0.00,0.00,0.00,0.00,1.00,0.00,0.00,168,23,0.14,0.02,0.14,0.00,0.00,0.00,0.00,0.00,smurf.',\n",
       " '0,icmp,ecr_i,SF,1032,0,0,0,0,0,0,0,0,0,0,0,0,0,0,0,0,0,510,510,0.00,0.00,0.00,0.00,1.00,0.00,0.00,178,33,0.19,0.02,0.19,0.00,0.00,0.00,0.00,0.00,smurf.']"
      ]
     },
     "execution_count": 12,
     "metadata": {},
     "output_type": "execute_result"
    }
   ],
   "source": [
    "raw_data.filter(lambda x: 'normal' not in x).take(10)  # Check how the 'not' normal data looks like"
   ]
  },
  {
   "cell_type": "code",
   "execution_count": 13,
   "metadata": {
    "collapsed": true
   },
   "outputs": [
    {
     "data": {
      "text/plain": [
       "['0,udp,private,SF,105,146,0,0,0,0,0,0,0,0,0,0,0,0,0,0,0,0,1,1,0.00,0.00,0.00,0.00,1.00,0.00,0.00,255,254,1.00,0.01,0.00,0.00,0.00,0.00,0.00,0.00,normal.',\n",
       " '0,udp,private,SF,105,146,0,0,0,0,0,0,0,0,0,0,0,0,0,0,0,0,1,1,0.00,0.00,0.00,0.00,1.00,0.00,0.00,255,254,1.00,0.01,0.00,0.00,0.00,0.00,0.00,0.00,normal.',\n",
       " '0,udp,private,SF,105,146,0,0,0,0,0,0,0,0,0,0,0,0,0,0,0,0,1,1,0.00,0.00,0.00,0.00,1.00,0.00,0.00,255,254,1.00,0.01,0.00,0.00,0.00,0.00,0.00,0.00,normal.',\n",
       " '0,udp,private,SF,105,146,0,0,0,0,0,0,0,0,0,0,0,0,0,0,0,0,2,2,0.00,0.00,0.00,0.00,1.00,0.00,0.00,255,254,1.00,0.01,0.00,0.00,0.00,0.00,0.00,0.00,snmpgetattack.',\n",
       " '0,udp,private,SF,105,146,0,0,0,0,0,0,0,0,0,0,0,0,0,0,0,0,2,2,0.00,0.00,0.00,0.00,1.00,0.00,0.00,255,254,1.00,0.01,0.01,0.00,0.00,0.00,0.00,0.00,snmpgetattack.']"
      ]
     },
     "execution_count": 13,
     "metadata": {},
     "output_type": "execute_result"
    }
   ],
   "source": [
    "test_raw_data.take(5)"
   ]
  },
  {
   "cell_type": "markdown",
   "metadata": {},
   "source": [
    "#### Prepare the raw training and test data for usage with the classifier"
   ]
  },
  {
   "cell_type": "code",
   "execution_count": 27,
   "metadata": {
    "collapsed": true
   },
   "outputs": [],
   "source": [
    "from pyspark.mllib.regression import LabeledPoint\n",
    "\n",
    "# Write down the code for parsing here, \"ONLY\" the numerical columns have to be selected for training purposes!\n",
    "def parse_interaction(line):\n",
    "    \"\"\" Selects the numerical columns and converts the last column (attack type) to either 0.0 or 1.0 (output label)\n",
    "    If the attack type is normal. then label should be 0.0 for every other case it should be 1.0\n",
    "    \n",
    "    Args: line of the data set in a string format\n",
    "    \n",
    "    Returns: LabeledPoint object where the first argument is the output label (Double) and \n",
    "    second argument is an numpy array of remaining feature columns (Double)\n",
    "    \"\"\"\n",
    "    \n",
    "    line_split = line.split(\",\")\n",
    "    \n",
    "    clean_line_split = line_split[0:1] + line_split[4:41]\n",
    "    \n",
    "    output_attack = 1.0\n",
    "    # ei tarvitse loopata rivien läpi, koska map tekee sen puolestamme\n",
    "    if line_split[41] == \"normal.\":\n",
    "        output_attack = 0.0\n",
    "    \n",
    "    #funktio sovelletaan x:lle in jossakin\n",
    "    #muutetaan lista numpy arrayksi, koska muuten ei voida soveltaa ml-tekniikoita\n",
    "    features_numpy_array = array([float(x) for x in clean_line_split])\n",
    "    return LabeledPoint(output_attack, features_numpy_array)\n",
    "\n",
    "training_data = raw_data.map(parse_interaction)\n",
    "test_data = test_raw_data.map(parse_interaction)"
   ]
  },
  {
   "cell_type": "markdown",
   "metadata": {},
   "source": [
    "#### Train the Logistic Regression classfier with the training dataset"
   ]
  },
  {
   "cell_type": "code",
   "execution_count": 28,
   "metadata": {
    "collapsed": false
   },
   "outputs": [
    {
     "data": {
      "text/plain": [
       "(weights=[-0.000146282991664,5.58882372126e-08,5.13510939473e-07,1.16235307129,1.58419308585,1.00416918531,0.607779510614,1.5367986336,-0.893095244835,0.0690004970982,2.27296846879,-4.1763045183,-0.0429633451348,-0.053632875555,-0.211254330573,-0.961017981702,0.0,0.0,-8.28199311599,0.00626242948255,0.00386865260311,0.765770616254,0.763982274633,0.108897281546,0.532150423848,-2.21633654068,-1.30946760048,-0.401016020748,0.00571152414706,-0.00319413266449,-0.457927064132,-2.42979425203,1.62117921241,3.60061991692,0.77738551778,0.771790090901,0.174119422595,0.436694921954], intercept=0.0)"
      ]
     },
     "execution_count": 28,
     "metadata": {},
     "output_type": "execute_result"
    }
   ],
   "source": [
    "from pyspark.mllib.classification import LogisticRegressionWithLBFGS\n",
    "logit_model = LogisticRegressionWithLBFGS.train(training_data)\n",
    "logit_model"
   ]
  },
  {
   "cell_type": "markdown",
   "metadata": {},
   "source": [
    "#### Predict the output labels for test datasets with the logistic regression classifier model object"
   ]
  },
  {
   "cell_type": "code",
   "execution_count": 29,
   "metadata": {
    "collapsed": false
   },
   "outputs": [
    {
     "data": {
      "text/plain": [
       "[(0.0, 0), (0.0, 0), (0.0, 0), (1.0, 0), (1.0, 0)]"
      ]
     },
     "execution_count": 29,
     "metadata": {},
     "output_type": "execute_result"
    }
   ],
   "source": [
    "# logit_model.predict will predict the output label based on the features given to it\n",
    "original_labels_vs_predicted_labels = test_data.map(lambda p: (p.label, logit_model.predict(p.features)))\n",
    "original_labels_vs_predicted_labels.take(5)"
   ]
  },
  {
   "cell_type": "markdown",
   "metadata": {},
   "source": [
    "#### Test the accuracy by selecting only the records where the given labels and predicted labels are equal , and dividing the count of those records by total records"
   ]
  },
  {
   "cell_type": "code",
   "execution_count": 30,
   "metadata": {
    "collapsed": false
   },
   "outputs": [
    {
     "name": "stdout",
     "output_type": "stream",
     "text": [
      "0.9173\n"
     ]
    }
   ],
   "source": [
    "test_accuracy = original_labels_vs_predicted_labels.filter(lambda x: x[0] == x[1]).count() / float(test_data.count())\n",
    "print(round(test_accuracy,4))  # Print the accuracy"
   ]
  },
  {
   "cell_type": "markdown",
   "metadata": {},
   "source": [
    "## 2. k-means Clustering"
   ]
  },
  {
   "cell_type": "code",
   "execution_count": 10,
   "metadata": {
    "collapsed": false
   },
   "outputs": [],
   "source": [
    "%matplotlib inline\n",
    "import matplotlib.pyplot as plt\n",
    "from pyspark.mllib.clustering import KMeans, KMeansModel\n",
    "from math import sqrt"
   ]
  },
  {
   "cell_type": "code",
   "execution_count": 11,
   "metadata": {
    "collapsed": false
   },
   "outputs": [
    {
     "data": {
      "text/plain": [
       "['151700 351102',\n",
       " '155799 354358',\n",
       " '142857 352716',\n",
       " '152726 349144',\n",
       " '151008 349692']"
      ]
     },
     "execution_count": 11,
     "metadata": {},
     "output_type": "execute_result"
    }
   ],
   "source": [
    "rdd = sc.textFile('unbalance.txt')\n",
    "rdd.take(5)"
   ]
  },
  {
   "cell_type": "code",
   "execution_count": 12,
   "metadata": {
    "collapsed": false,
    "scrolled": false
   },
   "outputs": [
    {
     "data": {
      "text/plain": [
       "[['151700', '351102'],\n",
       " ['155799', '354358'],\n",
       " ['142857', '352716'],\n",
       " ['152726', '349144'],\n",
       " ['151008', '349692']]"
      ]
     },
     "execution_count": 12,
     "metadata": {},
     "output_type": "execute_result"
    }
   ],
   "source": [
    "rdd_split = rdd.map(lambda line: line.split(' '))\n",
    "rdd_split.take(5)"
   ]
  },
  {
   "cell_type": "code",
   "execution_count": 18,
   "metadata": {
    "collapsed": false
   },
   "outputs": [
    {
     "name": "stdout",
     "output_type": "stream",
     "text": [
      "[(151700.0, 351102.0), (155799.0, 354358.0)]\n"
     ]
    }
   ],
   "source": [
    "features = rdd_split.map(lambda x: (float(x[0]), float(x[1]))).cache()  # Select only the features , convert to float\n",
    "#output = rdd_split.map(lambda x: int(x[2])).cache()  # Take the output\n",
    "#print(features)\n",
    "print(features.take(2))\n",
    "#print(output.take(2))"
   ]
  },
  {
   "cell_type": "code",
   "execution_count": 19,
   "metadata": {
    "collapsed": true
   },
   "outputs": [
    {
     "data": {
      "image/png": "[encoded data removed]",
      "text/plain": [
       "<matplotlib.figure.Figure at 0x7f558bd21908>"
      ]
     },
     "metadata": {},
     "output_type": "display_data"
    }
   ],
   "source": [
    "#from RDD to list to array\n",
    "\n",
    "features_python_list = features.collect()\n",
    "# Convert it to a numpy array\n",
    "features_numpy_array = array(features_python_list)\n",
    "# Plot the figure using matplotlib library\n",
    "plt.plot(features_numpy_array[:,0], features_numpy_array[:,1], 'b.')\n",
    "plt.show()"
   ]
  },
  {
   "cell_type": "code",
   "execution_count": 26,
   "metadata": {
    "collapsed": false
   },
   "outputs": [],
   "source": [
    "# Build the model (cluster the data)\n",
    "cluster_model = KMeans.train(features, 8)  # intialization step is crucial in algorithms which are randomized\n",
    "#cluster_model = KMeans.train(features, 8, initializationSteps=100, epsilon=1e-4)"
   ]
  },
  {
   "cell_type": "code",
   "execution_count": 27,
   "metadata": {
    "collapsed": false
   },
   "outputs": [
    {
     "data": {
      "image/png": "[encoded data removed]",
      "text/plain": [
       "<matplotlib.figure.Figure at 0x7f5587738710>"
      ]
     },
     "metadata": {},
     "output_type": "display_data"
    }
   ],
   "source": [
    "cluster_centers = array(cluster_model.clusterCenters)\n",
    "\n",
    "plt.scatter(features_numpy_array[:,0], features_numpy_array[:,1]) # Plot the points first\n",
    "\n",
    "for index in range(0,8):  # For every cluster plot the centers\n",
    "    plt.scatter(cluster_centers[index,0], cluster_centers[index,1], c='r')\n",
    "plt.show()"
   ]
  },
  {
   "cell_type": "code",
   "execution_count": 30,
   "metadata": {
    "collapsed": false,
    "scrolled": false
   },
   "outputs": [
    {
     "name": "stdout",
     "output_type": "stream",
     "text": [
      "[0 1 2 3 4 5 6 7]\n"
     ]
    }
   ],
   "source": [
    "# predict the output labels using the model generated\n",
    "# features -> input\n",
    "# cluster model\n",
    "\n",
    "# 1) train 2) predict\n",
    "\n",
    "predicted_labels = cluster_model.predict(features).collect()\n",
    "#print(predicted_labels)  # have a look at the result\n",
    "\n",
    "# take out the unique output labels from array (Hint: Use numpy unique function!)\n",
    "unique_labels = numpy.unique(predicted_labels)\n",
    "print(unique_labels)"
   ]
  },
  {
   "cell_type": "code",
   "execution_count": 31,
   "metadata": {
    "collapsed": false
   },
   "outputs": [
    {
     "data": {
      "text/plain": [
       "<matplotlib.collections.PathCollection at 0x7f558765e128>"
      ]
     },
     "execution_count": 31,
     "metadata": {},
     "output_type": "execute_result"
    },
    {
     "data": {
      "image/png": "[encoded data removed]",
      "text/plain": [
       "<matplotlib.figure.Figure at 0x7f55876b4128>"
      ]
     },
     "metadata": {},
     "output_type": "display_data"
    }
   ],
   "source": [
    "# Now plot the scatter plot of the points again using the command above but with colors (Hint: use the parameter c to pass color array)\n",
    "plt.scatter(features_numpy_array[:,0], features_numpy_array[:,1], c = predicted_labels)"
   ]
  },
  {
   "cell_type": "code",
   "execution_count": null,
   "metadata": {
    "collapsed": false
   },
   "outputs": [],
   "source": [
    "# Calculate the computational cost of the cluster"
   ]
  },
  {
   "cell_type": "code",
   "execution_count": null,
   "metadata": {
    "collapsed": false
   },
   "outputs": [],
   "source": []
  },
  {
   "cell_type": "code",
   "execution_count": null,
   "metadata": {
    "collapsed": true
   },
   "outputs": [],
   "source": []
  }
 ],
 "metadata": {
  "kernelspec": {
   "display_name": "Python 3",
   "language": "python",
   "name": "python3"
  },
  "language_info": {
   "codemirror_mode": {
    "name": "ipython",
    "version": 3
   },
   "file_extension": ".py",
   "mimetype": "text/x-python",
   "name": "python",
   "nbconvert_exporter": "python",
   "pygments_lexer": "ipython3",
   "version": "3.4.3"
  }
 },
 "nbformat": 4,
 "nbformat_minor": 0
}
