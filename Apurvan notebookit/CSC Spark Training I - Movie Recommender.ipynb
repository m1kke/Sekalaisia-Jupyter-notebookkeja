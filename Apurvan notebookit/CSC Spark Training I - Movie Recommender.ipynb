{
 "cells": [
  {
   "cell_type": "code",
   "execution_count": 1,
   "metadata": {
    "collapsed": false
   },
   "outputs": [
    {
     "data": {
      "text/plain": [
       "('u.item', <http.client.HTTPMessage at 0x7f33ba8e8e48>)"
      ]
     },
     "execution_count": 1,
     "metadata": {},
     "output_type": "execute_result"
    }
   ],
   "source": [
    "import urllib.request as urllib\n",
    "# u.data -- The full u data set, 100000 ratings by 943 users on 1682 item. \n",
    "          # Each user has rated at least 20 movies.  Users and items are numbered consecutively from 1. \n",
    "          # The data is randomly ordered. This is a tab separated list of user id | item id | rating | timestamp \n",
    "urllib.urlretrieve (\"http://files.grouplens.org/datasets/movielens/ml-100k/u.data\", \"u.data\")\n",
    "# u.item     -- Information about the items (movies); this is a tab separated list of\n",
    "              # movie id | movie title | release date | video release date | IMDb URL |\n",
    "              # unknown | Action | Adventure | Animation | Children's | Comedy | Crime | Documentary |# Drama | Fantasy |Film-Noir | Horror | Musical | Mystery | Romance | Sci-Fi |Thriller | War | Western |\n",
    "              # The last 19 fields are the genres, a 1 indicates the movie is of that genre, a 0 indicates it is not\n",
    "              # The movie ids are the ones used in the u.data data set\n",
    "urllib.urlretrieve (\"http://files.grouplens.org/datasets/movielens/ml-100k/u.item\", \"u.item\")"
   ]
  },
  {
   "cell_type": "code",
   "execution_count": 2,
   "metadata": {
    "collapsed": false,
    "scrolled": true
   },
   "outputs": [],
   "source": [
    "from pyspark import SparkContext\n",
    "sc = SparkContext()"
   ]
  },
  {
   "cell_type": "markdown",
   "metadata": {},
   "source": [
    "### The aim of this exercise is to recommend movies to the users.The exercise is divided into three parts. \n",
    "#### In the first part , you will preprocess the data, transform it into a meaningful format and use mathematical calculations to recommend. \n",
    "#### In the second part, we will use Machine learning methods to recommend on a much more efficient way.\n",
    "#### In the third part, you will recommend movies for yourself based on the ratings you supply manually"
   ]
  },
  {
   "cell_type": "markdown",
   "metadata": {},
   "source": [
    "#### 1 A. Create the ratings and movies RDDs"
   ]
  },
  {
   "cell_type": "code",
   "execution_count": 4,
   "metadata": {
    "collapsed": false
   },
   "outputs": [
    {
     "name": "stdout",
     "output_type": "stream",
     "text": [
      "['196\\t242\\t3\\t881250949']\n",
      "['1|Toy Story (1995)|01-Jan-1995||http://us.imdb.com/M/title-exact?Toy%20Story%20(1995)|0|0|0|1|1|1|0|0|0|0|0|0|0|0|0|0|0|0|0']\n"
     ]
    }
   ],
   "source": [
    "ratings = sc.textFile('u.data', 20)\n",
    "movies = sc.textFile('u.item', 20)\n",
    "\n",
    "#user id | item id | rating | timestamp\n",
    "print(ratings.take(1))\n",
    "\n",
    "# movie id | movie title | release date | video release date | IMDb URL | unknown | Action | Adventure | Animation | Children's | Comedy | Crime | Documentary |# Drama | Fantasy |Film-Noir | Horror | Musical | Mystery | Romance | Sci-Fi |Thriller | War | Western |\n",
    "print(movies.take(1))"
   ]
  },
  {
   "cell_type": "markdown",
   "metadata": {},
   "source": [
    "#### 1 B. Feature Extraction: Extracting the relevant features for our problem"
   ]
  },
  {
   "cell_type": "code",
   "execution_count": 30,
   "metadata": {
    "collapsed": false
   },
   "outputs": [
    {
     "name": "stdout",
     "output_type": "stream",
     "text": [
      "[(196, 242, 3.0), (186, 302, 3.0), (22, 377, 1.0), (244, 51, 2.0), (166, 346, 1.0)]\n",
      "100000\n",
      "[(1, 'Toy Story (1995)'), (2, 'GoldenEye (1995)'), (3, 'Four Rooms (1995)'), (4, 'Get Shorty (1995)'), (5, 'Copycat (1995)')]\n",
      "1682\n"
     ]
    }
   ],
   "source": [
    "# Write down the code for parsing the ratings of the above generated RDD called ratings\n",
    "def ratings_parse(x):\n",
    "    \"\"\"\n",
    "    Returns: (user_id, movie_id(item_id), rating)\n",
    "    \"\"\"\n",
    "    \n",
    "    items = x.split('\\t')\n",
    "    return int(items[0]), int(items[1]), float(items[2])\n",
    "\n",
    "\n",
    "def movies_parse(x):\n",
    "    \"\"\"\n",
    "    Returns: (movie_id, movie_title)\n",
    "    \"\"\"\n",
    "    items = x.split('|')\n",
    "    return int(items[0]), items[1]\n",
    "    \n",
    "\n",
    "\n",
    "# cache tallentaa muistiin\n",
    "ratingsRDD = ratings.map(ratings_parse).cache()\n",
    "print(ratingsRDD.take(5))\n",
    "print(ratingsRDD.count())\n",
    "\n",
    "moviesRDD = movies.map(movies_parse).cache()\n",
    "print(moviesRDD.take(5))\n",
    "print(moviesRDD.count())"
   ]
  },
  {
   "cell_type": "markdown",
   "metadata": {},
   "source": [
    "#### 1 C. First, we will try to recommend movies to the general public and the very basic way is to show all the movies which have high average ratings. We have to display the name, number of ratings, and the average rating of atleast 20 movies with the highest average rating. We should also filter our records based on a specific review threshold i.e. we need only select movies which have total number of reviews above a certain threshold value. "
   ]
  },
  {
   "cell_type": "code",
   "execution_count": 13,
   "metadata": {
    "collapsed": false
   },
   "outputs": [],
   "source": [
    "# You need to implement a helper function which can help in the desired mathematical calculations\n",
    "def getCountsAndAverages(movieIDandRatingsItem):\n",
    "    \"\"\" Calculate average rating of a movie\n",
    "    Args:\n",
    "        movieIDandRatingsItem: (movie_id, (rating1, rating2, ...))\n",
    "    Returns:\n",
    "        (movie_id, (total number of ratings, averageRating))\n",
    "    \"\"\"\n",
    "    \n",
    "    return (movieIDandRatingsItem[0], (len(movieIDandRatingsItem[1]), sum(movieIDandRatingsItem[1]) / len(movieIDandRatingsItem[1])))"
   ]
  },
  {
   "cell_type": "markdown",
   "metadata": {},
   "source": [
    "#### -> 1 D. Bring all the reviews for a movie together and then using the above helper function calculate the total count of ratings and average rating"
   ]
  },
  {
   "cell_type": "code",
   "execution_count": 14,
   "metadata": {
    "collapsed": false
   },
   "outputs": [
    {
     "name": "stdout",
     "output_type": "stream",
     "text": [
      "[(640, [4.0, 2.0, 3.0, 5.0, 3.0, 5.0, 5.0, 5.0, 4.0, 3.0, 5.0, 2.0, 1.0, 3.0, 3.0, 4.0, 2.0, 4.0, 5.0, 4.0, 4.0, 4.0, 1.0, 5.0, 3.0, 4.0, 5.0, 1.0, 3.0, 1.0, 2.0, 2.0, 2.0, 5.0, 2.0, 1.0, 5.0, 4.0, 4.0, 3.0, 2.0, 3.0, 4.0, 1.0, 3.0, 3.0, 4.0, 3.0, 1.0, 2.0, 3.0, 1.0, 1.0, 3.0, 4.0, 3.0, 4.0, 5.0, 1.0, 4.0, 2.0, 2.0, 3.0, 4.0, 3.0, 3.0, 1.0, 2.0, 2.0, 1.0, 1.0, 5.0, 3.0, 4.0, 1.0, 2.0, 3.0, 5.0, 4.0, 4.0, 3.0, 2.0])]\n",
      "[(640, (82, 3.024390243902439)), (960, (25, 3.24)), (1600, (4, 3.75)), (900, (42, 3.6904761904761907)), (1040, (25, 2.6))]\n"
     ]
    }
   ],
   "source": [
    "# Map the ratingsRDD in such a way that it contains only (movie_id, rating)\n",
    "# Then bring all the ratings for a particular movie_id together\n",
    "ratingsRDD_without_userid = ratingsRDD.map(lambda x: (x[1], x[2]))\n",
    "movieIDsWithRatingsRDD = ratingsRDD_without_userid.groupByKey()\n",
    "print(movieIDsWithRatingsRDD.mapValues(list).take(1))  # [(movie_id, [rating1, rating2 ....])]\n",
    "\n",
    "\n",
    "# Use the helper function getCountsAndAverages to get the total number of ratings for a particular movie and the average of of them\n",
    "movieIDsWithAvgRatingsRDD = movieIDsWithRatingsRDD.map(getCountsAndAverages)\n",
    "print(movieIDsWithAvgRatingsRDD.take(5))"
   ]
  },
  {
   "cell_type": "markdown",
   "metadata": {},
   "source": [
    "####  -> 1 E. Attach the name of the movie in the movieIDsWithAvgRatings RDD using moviesRDD which contains the movie name"
   ]
  },
  {
   "cell_type": "code",
   "execution_count": 15,
   "metadata": {
    "collapsed": false
   },
   "outputs": [
    {
     "name": "stdout",
     "output_type": "stream",
     "text": [
      "[(320, ('Paradise Lost: The Child Murders at Robin Hood Hills (1996)', (20, 4.05)))]\n",
      "[(4.05, 'Paradise Lost: The Child Murders at Robin Hood Hills (1996)', 20)]\n"
     ]
    }
   ],
   "source": [
    "# Attach the name from the moviesRDD to moviesIDsWithAvgRatingsRDD first\n",
    "movieNameWithAvgRatingsRDD = moviesRDD.join(movieIDsWithAvgRatingsRDD)\n",
    "print(movieNameWithAvgRatingsRDD.take(1))  # (movie_id, (movie name, (total_ratings, avg_rating)))\n",
    "\n",
    "# Transform the RDD into this form -> (average rating, movie name, number of ratings)\n",
    "movieNameWithAvgRatingsRDD = movieNameWithAvgRatingsRDD.map(lambda x: (x[1][1][1], x[1][0], x[1][1][0]))\n",
    "print(movieNameWithAvgRatingsRDD.take(1))"
   ]
  },
  {
   "cell_type": "markdown",
   "metadata": {},
   "source": [
    "#### -> 1 F. Selecting only those movies who have more than 200 reviews to appeal to a broader audience"
   ]
  },
  {
   "cell_type": "code",
   "execution_count": 16,
   "metadata": {
    "collapsed": false
   },
   "outputs": [
    {
     "name": "stdout",
     "output_type": "stream",
     "text": [
      "[(4.466442953020135, \"Schindler's List (1993)\", 298), (4.45679012345679, 'Casablanca (1942)', 243), (4.445229681978798, 'Shawshank Redemption, The (1994)', 283), (4.3875598086124405, 'Rear Window (1954)', 209), (4.385767790262173, 'Usual Suspects, The (1995)', 267), (4.3584905660377355, 'Star Wars (1977)', 583), (4.292237442922374, 'To Kill a Mockingbird (1962)', 219), (4.291666666666667, \"One Flew Over the Cuckoo's Nest (1975)\", 264), (4.28974358974359, 'Silence of the Lambs, The (1991)', 390), (4.283292978208232, 'Godfather, The (1972)', 413), (4.252380952380952, 'Raiders of the Lost Ark (1981)', 420), (4.2457142857142856, 'Titanic (1997)', 350), (4.204359673024523, 'Empire Strikes Back, The (1980)', 367), (4.203980099502488, 'Boot, Das (1981)', 201), (4.186602870813397, 'Godfather: Part II, The (1974)', 209), (4.172839506172839, 'Princess Bride, The (1987)', 324), (4.163043478260869, 'Amadeus (1984)', 276), (4.161616161616162, 'L.A. Confidential (1997)', 297), (4.155511811023622, 'Fargo (1996)', 508), (4.151515151515151, 'Braveheart (1995)', 297)]\n"
     ]
    }
   ],
   "source": [
    "# First select only those records where the total number of reviews are greater than the threshold which is 200\n",
    "# And then sort the final results by avg ratings in descending orders so that the highest avg rating is on the top\n",
    "# Then show first 20 records\n",
    "movieLimitedAndSortedByRatingRDD = movieNameWithAvgRatingsRDD.filter(lambda x:  x[2] > 200)\n",
    "movieLimitedAndSortedByRatingRDD = movieLimitedAndSortedByRatingRDD.sortBy(lambda x: -x[0])\n",
    "print(movieLimitedAndSortedByRatingRDD.take(20))  # Top 20 Movies for general public"
   ]
  },
  {
   "cell_type": "markdown",
   "metadata": {},
   "source": [
    "### Option 2: Now with a more advanced approach we can do tackle the same problem in a more efficient way with one of the Machine learning techniques known as Collaborative filtering. Benefits?"
   ]
  },
  {
   "cell_type": "code",
   "execution_count": 6,
   "metadata": {
    "collapsed": false
   },
   "outputs": [
    {
     "name": "stdout",
     "output_type": "stream",
     "text": [
      "[(22, 377, 1.0)]\n"
     ]
    }
   ],
   "source": [
    "# Use the ALS algorithm for performing Collaborative filtering\n",
    "from pyspark.mllib.recommendation import ALS, Rating\n",
    "# Divide the dataset into three parts as exlained in the slides\n",
    "# ratingsRDD -> (movie_id, user_id, rating)\n",
    "trainingRDD, validationRDD, testRDD = ratingsRDD.randomSplit([6, 2, 2], seed=0)\n",
    "print(validationRDD.take(1))"
   ]
  },
  {
   "cell_type": "code",
   "execution_count": 7,
   "metadata": {
    "collapsed": false
   },
   "outputs": [
    {
     "name": "stdout",
     "output_type": "stream",
     "text": [
      "Mean Squared Error = 0.8949482092140121\n",
      "Mean Squared Error = 0.8905240743563481\n",
      "Mean Squared Error = 0.889356063525915\n",
      "Mean Squared Error = 0.9161278096110412\n",
      "Mean Squared Error = 0.914008649357351\n",
      "Predictions RDD:  [((650, 670), 2.565526227777272)]\n",
      "Ratings and Predictions combined RDD:  [((872, 930), (3.0, 3.1881548922747243))]\n"
     ]
    }
   ],
   "source": [
    "# Build the recommendation model using Alternating Least Squares\n",
    "ranks = [2, 3, 4, 8, 12]  # Rank is a factor which can be tuned to get the best model for our dataset\n",
    "numIterations = 5\n",
    "regularizationParameter = 0.1\n",
    "for rank in ranks:\n",
    "    model = ALS.train(trainingRDD, rank, numIterations, lambda_=regularizationParameter)\n",
    "\n",
    "    # Evaluate the model on training data\n",
    "    validation_data = validationRDD.map(lambda p: (p[0], p[1]))\n",
    "    predictions = model.predictAll(validation_data).map(lambda r: ((r[0], r[1]), r[2]))\n",
    "    ratesAndPreds = validationRDD.map(lambda r: ((r[0], r[1]), r[2])).join(predictions)\n",
    "    MSE = ratesAndPreds.map(lambda r: (r[1][0] - r[1][1])**2).mean()\n",
    "    print(\"Mean Squared Error = \" + str(MSE))\n",
    "    \n",
    "print('Predictions RDD: ', predictions.take(1))\n",
    "print('Ratings and Predictions combined RDD: ', ratesAndPreds.take(1))"
   ]
  },
  {
   "cell_type": "code",
   "execution_count": 8,
   "metadata": {
    "collapsed": false
   },
   "outputs": [
    {
     "data": {
      "text/plain": [
       "[Rating(user=331, product=1100, rating=4.638645224307679),\n",
       " Rating(user=655, product=1100, rating=3.1824183115058235)]"
      ]
     },
     "execution_count": 8,
     "metadata": {},
     "output_type": "execute_result"
    }
   ],
   "source": [
    "bestRank = 3 # Fill the best rank by observing the errors from several runs\n",
    "myModel = ALS.train(trainingRDD, bestRank, seed=0, iterations=numIterations,\n",
    "                      lambda_=regularizationParameter)\n",
    "testForPredictingRDD = testRDD.map(lambda item: (item[0], item[1]) )  # (user, movie, rating) -> (user, movie)\n",
    "predictedTestRDD = myModel.predictAll(testForPredictingRDD)\n",
    "# Check how does it look like after predicting from the model\n",
    "predictedTestRDD.take(2)"
   ]
  },
  {
   "cell_type": "code",
   "execution_count": 9,
   "metadata": {
    "collapsed": false
   },
   "outputs": [
    {
     "data": {
      "text/plain": [
       "3.4198448238160895"
      ]
     },
     "execution_count": 9,
     "metadata": {},
     "output_type": "execute_result"
    }
   ],
   "source": [
    "# Calculate average rating value of all the ratings for the whole predicted test RDD\n",
    "predictedTestRDD.map(lambda item: item[2]).reduce(lambda a,b: a+b) / predictedTestRDD.count() # item[2] = ratings"
   ]
  },
  {
   "cell_type": "code",
   "execution_count": 10,
   "metadata": {
    "collapsed": false
   },
   "outputs": [
    {
     "data": {
      "text/plain": [
       "[(298, 474, 4.0), (115, 265, 2.0)]"
      ]
     },
     "execution_count": 10,
     "metadata": {},
     "output_type": "execute_result"
    }
   ],
   "source": [
    "testRDD.take(2) # verify again how it looks like"
   ]
  },
  {
   "cell_type": "code",
   "execution_count": 11,
   "metadata": {
    "collapsed": false
   },
   "outputs": [
    {
     "data": {
      "text/plain": [
       "3.532626021119745"
      ]
     },
     "execution_count": 11,
     "metadata": {},
     "output_type": "execute_result"
    }
   ],
   "source": [
    "# Calculate average ratings for the test RDD\n",
    "testRDD.map(lambda item: item[2]).reduce(lambda a,b: a+b) / testRDD.count() # item[2] = ratings"
   ]
  },
  {
   "cell_type": "markdown",
   "metadata": {},
   "source": [
    "#### 3. In this section you will use the above demonstration to calculate recommendations for yourself. You need to provide manual ratings to at least 10 of the movies from the list and then do the same step of training and testing steps again."
   ]
  },
  {
   "cell_type": "code",
   "execution_count": 17,
   "metadata": {
    "collapsed": true
   },
   "outputs": [
    {
     "name": "stdout",
     "output_type": "stream",
     "text": [
      "List of movies with maximum number of ratings\n",
      "(average rating, movie name, number of reviews)\n",
      "(4.466442953020135, \"Schindler's List (1993)\", 298)\n",
      "(4.45679012345679, 'Casablanca (1942)', 243)\n",
      "(4.445229681978798, 'Shawshank Redemption, The (1994)', 283)\n",
      "(4.3875598086124405, 'Rear Window (1954)', 209)\n",
      "(4.385767790262173, 'Usual Suspects, The (1995)', 267)\n",
      "(4.3584905660377355, 'Star Wars (1977)', 583)\n",
      "(4.292237442922374, 'To Kill a Mockingbird (1962)', 219)\n",
      "(4.291666666666667, \"One Flew Over the Cuckoo's Nest (1975)\", 264)\n",
      "(4.28974358974359, 'Silence of the Lambs, The (1991)', 390)\n",
      "(4.283292978208232, 'Godfather, The (1972)', 413)\n",
      "(4.252380952380952, 'Raiders of the Lost Ark (1981)', 420)\n",
      "(4.2457142857142856, 'Titanic (1997)', 350)\n",
      "(4.204359673024523, 'Empire Strikes Back, The (1980)', 367)\n",
      "(4.203980099502488, 'Boot, Das (1981)', 201)\n",
      "(4.186602870813397, 'Godfather: Part II, The (1974)', 209)\n",
      "(4.172839506172839, 'Princess Bride, The (1987)', 324)\n",
      "(4.163043478260869, 'Amadeus (1984)', 276)\n",
      "(4.161616161616162, 'L.A. Confidential (1997)', 297)\n",
      "(4.155511811023622, 'Fargo (1996)', 508)\n",
      "(4.151515151515151, 'Braveheart (1995)', 297)\n",
      "(4.138181818181818, 'Blade Runner (1982)', 275)\n",
      "(4.121212121212121, \"It's a Wonderful Life (1946)\", 231)\n",
      "(4.104602510460251, 'Graduate, The (1967)', 239)\n",
      "(4.100418410041841, 'Psycho (1960)', 239)\n",
      "(4.0772357723577235, 'Wizard of Oz, The (1939)', 246)\n",
      "(4.0664556962025316, 'Monty Python and the Holy Grail (1974)', 316)\n",
      "(4.060913705583756, 'Pulp Fiction (1994)', 394)\n",
      "(4.058091286307054, 'Sting, The (1973)', 241)\n",
      "(4.04524886877828, 'Apocalypse Now (1979)', 221)\n",
      "(4.044642857142857, 'Fugitive, The (1993)', 336)\n",
      "(4.034364261168385, 'Alien (1979)', 291)\n",
      "(4.0111940298507465, 'Sense and Sensibility (1995)', 268)\n",
      "(4.007889546351085, 'Return of the Jedi (1983)', 507)\n",
      "(4.0067796610169495, 'Terminator 2: Judgment Day (1991)', 295)\n",
      "(3.9954337899543377, 'Babe (1995)', 219)\n",
      "(3.969111969111969, '2001: A Space Odyssey (1968)', 259)\n",
      "(3.9513274336283186, 'GoodFellas (1990)', 226)\n",
      "(3.949074074074074, 'Butch Cassidy and the Sundance Kid (1969)', 216)\n",
      "(3.9471830985915495, 'Aliens (1986)', 284)\n",
      "(3.9335548172757475, 'Terminator, The (1984)', 301)\n",
      "(3.931159420289855, 'Apollo 13 (1995)', 276)\n",
      "(3.930513595166163, 'Indiana Jones and the Last Crusade (1989)', 331)\n",
      "(3.926984126984127, 'Full Monty, The (1997)', 315)\n",
      "(3.9163346613545817, 'Dead Poets Society (1989)', 251)\n",
      "(3.912621359223301, 'M*A*S*H (1970)', 206)\n",
      "(3.910344827586207, 'When Harry Met Sally... (1989)', 290)\n",
      "(3.909502262443439, 'Clockwork Orange, A (1971)', 221)\n",
      "(3.8963210702341136, 'Dead Man Walking (1995)', 299)\n",
      "(3.884, 'Trainspotting (1996)', 250)\n",
      "(3.881057268722467, 'Stand by Me (1986)', 227)\n"
     ]
    }
   ],
   "source": [
    "# Execute this section to get the list of movies which need to select from\n",
    "print('List of movies with maximum number of ratings')\n",
    "print('(average rating, movie name, number of reviews)')\n",
    "for ratingsTuple in movieLimitedAndSortedByRatingRDD.take(50):\n",
    "    print(ratingsTuple)"
   ]
  },
  {
   "cell_type": "code",
   "execution_count": 18,
   "metadata": {
    "collapsed": false
   },
   "outputs": [
    {
     "data": {
      "text/plain": [
       "[(1, 'Toy Story (1995)'), (2, 'GoldenEye (1995)')]"
      ]
     },
     "execution_count": 18,
     "metadata": {},
     "output_type": "execute_result"
    }
   ],
   "source": [
    "moviesRDD.take(2)  # Verify again what moviesRDD looks like (movie_id, movie_name)"
   ]
  },
  {
   "cell_type": "code",
   "execution_count": 22,
   "metadata": {
    "collapsed": false
   },
   "outputs": [
    {
     "data": {
      "text/plain": [
       "[(196, 242, 3.0)]"
      ]
     },
     "execution_count": 22,
     "metadata": {},
     "output_type": "execute_result"
    }
   ],
   "source": [
    "ratingsRDD.take(1)"
   ]
  },
  {
   "cell_type": "code",
   "execution_count": 33,
   "metadata": {
    "collapsed": false
   },
   "outputs": [
    {
     "name": "stdout",
     "output_type": "stream",
     "text": [
      "[(0, 9, 2.0), (0, 187, 1.0), (0, 174, 5.0), (0, 210, 4.0), (0, 96, 4.0), (0, 127, 2.0), (0, 28, 3.0), (0, 12, 1.0), (0, 191, 1.0), (0, 183, 5.0)]\n"
     ]
    }
   ],
   "source": [
    "my_user_id = 0  # This is your user id , do not change it\n",
    "\n",
    "# Note that the movie IDs are the *last* number on each line. A common error was to use the number of ratings as the movie ID.\n",
    "myRatedMoviesName = [\n",
    "    (my_user_id, u'Dead Man Walking (1995)' , 2),\n",
    "    (my_user_id, u'Godfather: Part II, The (1974)' , 1),\n",
    "    (my_user_id, u'Raiders of the Lost Ark (1981)' , 5),\n",
    "    (my_user_id, u'Indiana Jones and the Last Crusade (1989)', 4),\n",
    "    (my_user_id, u'Terminator 2: Judgment Day (1991)', 4),\n",
    "    (my_user_id, u'Godfather, The (1972)', 2),\n",
    "    (my_user_id, u'Apollo 13 (1995)', 3),\n",
    "    (my_user_id, u'Usual Suspects, The (1995)', 1),\n",
    "    (my_user_id, u'Amadeus (1984)', 1),\n",
    "    (my_user_id, u'Alien (1979)', 5),\n",
    "    ]\n",
    "myRatedMovies = []\n",
    "# We need to pull movie_ids for the movies that you have entered from the moviesRDD\n",
    "for (uid, name, rating) in myRatedMoviesName:\n",
    "    movie_id = moviesRDD.filter(lambda item: item[1] == name).take(1)[0][0]\n",
    "    myRatedMovies.append( (uid, movie_id, float(rating)) )\n",
    "# Convert the python list into RDD     \n",
    "myRatingsRDD = sc.parallelize(myRatedMovies)\n",
    "print(myRatingsRDD.take(10))"
   ]
  },
  {
   "cell_type": "code",
   "execution_count": 34,
   "metadata": {
    "collapsed": true
   },
   "outputs": [],
   "source": [
    "# Use the union() function of spark to append the contents of myRatingsRDD to trainingRDD\n",
    "trainingWithMyRatingsRDD = trainingRDD.union(myRatingsRDD)\n",
    "# Then train the model with the new RDD using same old parameters as before\n",
    "myRatingsModel = ALS.train(trainingWithMyRatingsRDD, bestRank, seed=0, iterations=numIterations,\n",
    "                      lambda_=regularizationParameter)"
   ]
  },
  {
   "cell_type": "code",
   "execution_count": 36,
   "metadata": {
    "collapsed": false,
    "scrolled": false
   },
   "outputs": [
    {
     "name": "stdout",
     "output_type": "stream",
     "text": [
      "_myUnratedMoviesRDD [(1, 'Toy Story (1995)')]\n"
     ]
    }
   ],
   "source": [
    "# Now select all movies except the ones you rated in myRatedMovies array. \n",
    "# Hint: you can run a for loop with lambda to filter and select only the movies which were not in the myRatedMovies array \n",
    "_myUnratedMoviesRDD = moviesRDD.filter(lambda item: item[0] not in [x[1] for x in myRatedMovies]) # item -> (movie_id, movie_name)\n",
    "print('_myUnratedMoviesRDD', _myUnratedMoviesRDD.take(1))  # (movie_id, movie_name)"
   ]
  },
  {
   "cell_type": "code",
   "execution_count": 44,
   "metadata": {
    "collapsed": false
   },
   "outputs": [
    {
     "name": "stdout",
     "output_type": "stream",
     "text": [
      "myUnratedMoviesRDD  [(0, 1)]\n"
     ]
    }
   ],
   "source": [
    "# Transform the above result into an RDD which looks like (my_user_id, movie_id)\n",
    "myUnratedMoviesRDD = _myUnratedMoviesRDD.map(lambda item: (my_user_id, item[0]))\n",
    "print('myUnratedMoviesRDD ', myUnratedMoviesRDD.take(1))"
   ]
  },
  {
   "cell_type": "code",
   "execution_count": 45,
   "metadata": {
    "collapsed": false
   },
   "outputs": [
    {
     "data": {
      "text/plain": [
       "[Rating(user=0, product=39, rating=1.7181107901675894),\n",
       " Rating(user=0, product=767, rating=1.2998711094634228)]"
      ]
     },
     "execution_count": 45,
     "metadata": {},
     "output_type": "execute_result"
    }
   ],
   "source": [
    "# Remember how we converted testRDD to testForPredictingRDD by removing the ratings field from the testRDD \n",
    "# myUnratedMovies now has an user_id (my_user_id) and movie_id.\n",
    "# Hence now you can use myUnratedMoviesRDD with myRatingsModel to predict your ratings for the movies\n",
    "\n",
    "predictedRatingsRDD = myRatingsModel.predictAll(myUnratedMoviesRDD)\n",
    "predictedRatingsRDD.take(2) # IMPORTANT, This RDD is not made up of tuples now, it is an RDD of 'Rating' objects!"
   ]
  },
  {
   "cell_type": "code",
   "execution_count": 51,
   "metadata": {
    "collapsed": false
   },
   "outputs": [
    {
     "name": "stdout",
     "output_type": "stream",
     "text": [
      "movieCountsRDD (movie_id, number of ratings) [(640, 82)]\n",
      "predictedMoviesWithRatingsRDD (movie_id, rating) [(39, 1.7181107901675894)]\n"
     ]
    }
   ],
   "source": [
    "# Transform movieIDsWithAvgRatingsRDD from section(1 D)\n",
    "# Remember it has the form (MovieID, (number of ratings, average rating)), transform into an RDD of the form (MovieID, number of ratings)\n",
    "movieCountsRDD = movieIDsWithAvgRatingsRDD.map(lambda item: (item[0], item[1][0]))\n",
    "print('movieCountsRDD (movie_id, number of ratings)', movieCountsRDD.take(1))\n",
    "\n",
    "# Transform predictedRatingsRDD into an RDD with entries that are pairs of the form (Movie ID, Predicted Rating)\n",
    "predictedMoviesWithRatingsRDD = predictedRatingsRDD.map(lambda item: (item.product, item.rating))\n",
    "print('predictedMoviesWithRatingsRDD (movie_id, rating)', predictedMoviesWithRatingsRDD.take(1))"
   ]
  },
  {
   "cell_type": "code",
   "execution_count": 52,
   "metadata": {
    "collapsed": false
   },
   "outputs": [
    {
     "data": {
      "text/plain": [
       "[(1155, (3.370059549747708, 3)), (132, (2.6694794408147793, 246))]"
      ]
     },
     "execution_count": 52,
     "metadata": {},
     "output_type": "execute_result"
    }
   ],
   "source": [
    "# Use predictedMoviesWithRatingsRDD and movieCountsRDD (created above) to yield a new RDD of the form (Movie ID, (Predicted Rating, number of ratings))\n",
    "predictedMoviesWithRatingsAndCountsRDD  = predictedMoviesWithRatingsRDD.join(movieCountsRDD)\n",
    "predictedMoviesWithRatingsAndCountsRDD.take(2)"
   ]
  },
  {
   "cell_type": "code",
   "execution_count": 69,
   "metadata": {
    "collapsed": false
   },
   "outputs": [
    {
     "name": "stdout",
     "output_type": "stream",
     "text": [
      "predictedMoviesWithRatingsCountsAndNamesRDD  [(265, ((3.2741733749611015, 227), 'Hunt for Red October, The (1990)'))]\n",
      "ratingsWithNamesRDD  [(3.2741733749611015, 'Hunt for Red October, The (1990)', 227)]\n"
     ]
    }
   ],
   "source": [
    "# Select movies from predictedMoviesWithRatingsAndCountsRDD with number of ratings more than say, 150\n",
    "# Then, Using PredictedMoviesWithRatingsAndCountsRDD and moviesRDD (which has the movie name) we need to yield an RDD of the form\n",
    "# (Predicted Rating, Movie Name, number of ratings)\n",
    "\n",
    "predictedMoviesWithRatingsAndCountsRDDOver150 = predictedMoviesWithRatingsAndCountsRDD.filter(lambda x: x[1][1] > 150)\n",
    "\n",
    "predictedMoviesWithRatingsCountsAndNamesRDD = predictedMoviesWithRatingsAndCountsRDDOver150.join(moviesRDD)\n",
    "print('predictedMoviesWithRatingsCountsAndNamesRDD ', predictedMoviesWithRatingsCountsAndNamesRDD.take(1)) \n",
    "\n",
    "ratingsWithNamesRDD = predictedMoviesWithRatingsCountsAndNamesRDD.map(lambda x: (x[1][0][0], x[1][1], x[1][0][1]))\n",
    "print('ratingsWithNamesRDD ', ratingsWithNamesRDD.take(1))"
   ]
  },
  {
   "cell_type": "code",
   "execution_count": 70,
   "metadata": {
    "collapsed": false,
    "scrolled": false
   },
   "outputs": [
    {
     "data": {
      "text/plain": [
       "[(4.02084016526709, 'Independence Day (ID4) (1996)', 429),\n",
       " (3.894651260229967, 'Titanic (1997)', 350),\n",
       " (3.8348272488208406, 'Time to Kill, A (1996)', 232),\n",
       " (3.8301274572475466, 'Air Force One (1997)', 431),\n",
       " (3.8291934034118724, 'Top Gun (1986)', 220),\n",
       " (3.826040571012653, 'True Lies (1994)', 208),\n",
       " (3.762219294861951, 'Rock, The (1996)', 378),\n",
       " (3.7426954865776985, 'American President, The (1995)', 164),\n",
       " (3.7023181843835777, 'Speed (1994)', 230),\n",
       " (3.699236157667446, 'Conspiracy Theory (1997)', 295),\n",
       " (3.699073772874656, 'Ghost (1990)', 170),\n",
       " (3.6919508207344593, 'Ransom (1996)', 267),\n",
       " (3.6862950699112043, 'Twister (1996)', 293),\n",
       " (3.6802226059231122, 'Phenomenon (1996)', 244),\n",
       " (3.655166308654925, 'Braveheart (1995)', 297),\n",
       " (3.61163440141907, 'Pretty Woman (1990)', 164),\n",
       " (3.590322699372818, 'Saint, The (1997)', 316),\n",
       " (3.588461536881516, 'While You Were Sleeping (1995)', 162),\n",
       " (3.582116508512235, 'Forrest Gump (1994)', 321),\n",
       " (3.572981038065703, 'Lion King, The (1994)', 220)]"
      ]
     },
     "execution_count": 70,
     "metadata": {},
     "output_type": "execute_result"
    }
   ],
   "source": [
    "# use takeOrdered instead of take and pass the lambda function in key to sort it in descending order (select 20 movies)\n",
    "ratingsWithNamesRDD.takeOrdered(20, key=lambda x: -x[0])\n",
    "\n",
    "# These are Highest rated 20 movies (Predicted Recommendations) with reviews > 150"
   ]
  }
 ],
 "metadata": {
  "kernelspec": {
   "display_name": "Python 3",
   "language": "python",
   "name": "python3"
  },
  "language_info": {
   "codemirror_mode": {
    "name": "ipython",
    "version": 3
   },
   "file_extension": ".py",
   "mimetype": "text/x-python",
   "name": "python",
   "nbconvert_exporter": "python",
   "pygments_lexer": "ipython3",
   "version": "3.4.3"
  }
 },
 "nbformat": 4,
 "nbformat_minor": 0
}
