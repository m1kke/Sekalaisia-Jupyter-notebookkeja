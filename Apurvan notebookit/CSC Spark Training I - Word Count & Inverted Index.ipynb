{
 "cells": [
  {
   "cell_type": "code",
   "execution_count": 1,
   "metadata": {
    "collapsed": false
   },
   "outputs": [
    {
     "data": {
      "text/plain": [
       "('GoT.txt', <http.client.HTTPMessage at 0x7f54089677b8>)"
      ]
     },
     "execution_count": 1,
     "metadata": {},
     "output_type": "execute_result"
    }
   ],
   "source": [
    "import urllib.request as urllib\n",
    "urllib.urlretrieve (\"https://kannu.csc.fi/index.php/s/2FKIuCYWfzdc2hn/download\", \"HP.txt\")\n",
    "urllib.urlretrieve (\"https://kannu.csc.fi/index.php/s/oU72rsNmnDqJn0d/download\", \"GoT.txt\")"
   ]
  },
  {
   "cell_type": "code",
   "execution_count": 2,
   "metadata": {
    "collapsed": true
   },
   "outputs": [],
   "source": [
    "from pyspark import SparkContext\n",
    "sc = SparkContext()"
   ]
  },
  {
   "cell_type": "markdown",
   "metadata": {},
   "source": [
    "## Word Count"
   ]
  },
  {
   "cell_type": "markdown",
   "metadata": {},
   "source": [
    "#### Load the RDD from the text file"
   ]
  },
  {
   "cell_type": "code",
   "execution_count": 4,
   "metadata": {
    "collapsed": false
   },
   "outputs": [
    {
     "data": {
      "text/plain": [
       "['The place where things are hidden',\n",
       " 'If you have to ask you will never know',\n",
       " 'If you know you need only ask',\n",
       " 'The hidden room of requirement']"
      ]
     },
     "execution_count": 4,
     "metadata": {},
     "output_type": "execute_result"
    }
   ],
   "source": [
    "rdd_input = sc.textFile('HP.txt')\n",
    "rdd_input.collect()"
   ]
  },
  {
   "cell_type": "code",
   "execution_count": 5,
   "metadata": {
    "collapsed": false
   },
   "outputs": [
    {
     "data": {
      "text/plain": [
       "['The',\n",
       " 'place',\n",
       " 'where',\n",
       " 'things',\n",
       " 'are',\n",
       " 'hidden',\n",
       " 'If',\n",
       " 'you',\n",
       " 'have',\n",
       " 'to',\n",
       " 'ask',\n",
       " 'you',\n",
       " 'will',\n",
       " 'never',\n",
       " 'know',\n",
       " 'If',\n",
       " 'you',\n",
       " 'know',\n",
       " 'you',\n",
       " 'need',\n",
       " 'only',\n",
       " 'ask',\n",
       " 'The',\n",
       " 'hidden',\n",
       " 'room',\n",
       " 'of',\n",
       " 'requirement']"
      ]
     },
     "execution_count": 5,
     "metadata": {},
     "output_type": "execute_result"
    }
   ],
   "source": [
    "# Split the text into words and flatten the results. Why?\n",
    "words = rdd_input.flatMap(lambda line: line.split())\n",
    "words.collect()"
   ]
  },
  {
   "cell_type": "markdown",
   "metadata": {},
   "source": [
    "#### Map the words in such a way, so that they can be counted later by aggregation"
   ]
  },
  {
   "cell_type": "code",
   "execution_count": 9,
   "metadata": {
    "collapsed": false
   },
   "outputs": [
    {
     "data": {
      "text/plain": [
       "[('The', 1),\n",
       " ('place', 1),\n",
       " ('where', 1),\n",
       " ('things', 1),\n",
       " ('are', 1),\n",
       " ('hidden', 1),\n",
       " ('If', 1),\n",
       " ('you', 1),\n",
       " ('have', 1),\n",
       " ('to', 1),\n",
       " ('ask', 1),\n",
       " ('you', 1),\n",
       " ('will', 1),\n",
       " ('never', 1),\n",
       " ('know', 1),\n",
       " ('If', 1),\n",
       " ('you', 1),\n",
       " ('know', 1),\n",
       " ('you', 1),\n",
       " ('need', 1),\n",
       " ('only', 1),\n",
       " ('ask', 1),\n",
       " ('The', 1),\n",
       " ('hidden', 1),\n",
       " ('room', 1),\n",
       " ('of', 1),\n",
       " ('requirement', 1)]"
      ]
     },
     "execution_count": 9,
     "metadata": {},
     "output_type": "execute_result"
    }
   ],
   "source": [
    "#liitetään numero yksi laskemista varten\n",
    "words_map = words.map(lambda x: (x,1))\n",
    "words_map.collect()"
   ]
  },
  {
   "cell_type": "markdown",
   "metadata": {},
   "source": [
    "#### Apply reduceByKey to complete the counting"
   ]
  },
  {
   "cell_type": "code",
   "execution_count": 10,
   "metadata": {
    "collapsed": false
   },
   "outputs": [
    {
     "data": {
      "text/plain": [
       "[('where', 1),\n",
       " ('ask', 2),\n",
       " ('only', 1),\n",
       " ('hidden', 2),\n",
       " ('things', 1),\n",
       " ('room', 1),\n",
       " ('are', 1),\n",
       " ('never', 1),\n",
       " ('know', 2),\n",
       " ('of', 1),\n",
       " ('have', 1),\n",
       " ('The', 2),\n",
       " ('requirement', 1),\n",
       " ('you', 4),\n",
       " ('If', 2),\n",
       " ('place', 1),\n",
       " ('will', 1),\n",
       " ('to', 1),\n",
       " ('need', 1)]"
      ]
     },
     "execution_count": 10,
     "metadata": {},
     "output_type": "execute_result"
    }
   ],
   "source": [
    "#suoritetaan agregaatio\n",
    "words_count = words_map.reduceByKey(lambda a,b: a+b)\n",
    "words_count.collect()"
   ]
  },
  {
   "cell_type": "markdown",
   "metadata": {},
   "source": [
    "#### Sort them in the order of counts"
   ]
  },
  {
   "cell_type": "code",
   "execution_count": 12,
   "metadata": {
    "collapsed": false
   },
   "outputs": [
    {
     "data": {
      "text/plain": [
       "[('you', 4),\n",
       " ('ask', 2),\n",
       " ('hidden', 2),\n",
       " ('know', 2),\n",
       " ('The', 2),\n",
       " ('If', 2),\n",
       " ('where', 1),\n",
       " ('only', 1),\n",
       " ('things', 1),\n",
       " ('room', 1),\n",
       " ('are', 1),\n",
       " ('never', 1),\n",
       " ('of', 1),\n",
       " ('have', 1),\n",
       " ('requirement', 1),\n",
       " ('place', 1),\n",
       " ('will', 1),\n",
       " ('to', 1),\n",
       " ('need', 1)]"
      ]
     },
     "execution_count": 12,
     "metadata": {},
     "output_type": "execute_result"
    }
   ],
   "source": [
    "#words_count_sorted_freq = words_count.sortBy(lambda x: x[1])\n",
    "words_count_sorted_freq = words_count.sortBy(lambda x: -x[1]) # Descending\n",
    "words_count_sorted_freq.collect()"
   ]
  },
  {
   "cell_type": "markdown",
   "metadata": {
    "collapsed": true
   },
   "source": [
    "## Inverted Index"
   ]
  },
  {
   "cell_type": "code",
   "execution_count": 19,
   "metadata": {
    "collapsed": false
   },
   "outputs": [
    {
     "data": {
      "text/plain": [
       "['A Lannister always pays his debts.',\n",
       " 'The night is dark and full of terrors.',\n",
       " 'The next time you raise a hand to me will be the last time you have hands.',\n",
       " 'When you play the Game of Thrones you win or you die.',\n",
       " 'You know nothing Jon Snow.']"
      ]
     },
     "execution_count": 19,
     "metadata": {},
     "output_type": "execute_result"
    }
   ],
   "source": [
    "# name of the file is GoT.txt\n",
    "# data cleaning and preparation: get rid of the full stop at the end of sentences, convert everything to lowercase\n",
    "\n",
    "rdd_got = sc.textFile('GoT.txt')\n",
    "rdd_got.collect()"
   ]
  },
  {
   "cell_type": "code",
   "execution_count": 20,
   "metadata": {
    "collapsed": false
   },
   "outputs": [
    {
     "data": {
      "text/plain": [
       "['a lannister always pays his debts',\n",
       " 'the night is dark and full of terrors',\n",
       " 'the next time you raise a hand to me will be the last time you have hands',\n",
       " 'when you play the game of thrones you win or you die',\n",
       " 'you know nothing jon snow']"
      ]
     },
     "execution_count": 20,
     "metadata": {},
     "output_type": "execute_result"
    }
   ],
   "source": [
    "rdd_got = rdd_got.map(lambda line: line.replace('.', '')).map(lambda line: line.lower())\n",
    "rdd_got.collect()"
   ]
  },
  {
   "cell_type": "code",
   "execution_count": 21,
   "metadata": {
    "collapsed": false
   },
   "outputs": [
    {
     "data": {
      "text/plain": [
       "[('a lannister always pays his debts', 0),\n",
       " ('the night is dark and full of terrors', 1),\n",
       " ('the next time you raise a hand to me will be the last time you have hands',\n",
       "  2),\n",
       " ('when you play the game of thrones you win or you die', 3),\n",
       " ('you know nothing jon snow', 4)]"
      ]
     },
     "execution_count": 21,
     "metadata": {},
     "output_type": "execute_result"
    }
   ],
   "source": [
    "rdd_got = rdd_got.zipWithIndex()  # Generate the positional index\n",
    "rdd_got.collect()"
   ]
  },
  {
   "cell_type": "code",
   "execution_count": 22,
   "metadata": {
    "collapsed": false
   },
   "outputs": [
    {
     "name": "stdout",
     "output_type": "stream",
     "text": [
      "[(['a', 'lannister', 'always', 'pays', 'his', 'debts'], 0), (['the', 'night', 'is', 'dark', 'and', 'full', 'of', 'terrors'], 1), (['the', 'next', 'time', 'you', 'raise', 'a', 'hand', 'to', 'me', 'will', 'be', 'the', 'last', 'time', 'you', 'have', 'hands'], 2), (['when', 'you', 'play', 'the', 'game', 'of', 'thrones', 'you', 'win', 'or', 'you', 'die'], 3), (['you', 'know', 'nothing', 'jon', 'snow'], 4)]\n"
     ]
    }
   ],
   "source": [
    "rdd_parsed = rdd_got.map(lambda x: (x[0].split(), x[1]))  # Split the words\n",
    "print(rdd_parsed.collect())"
   ]
  },
  {
   "cell_type": "code",
   "execution_count": 23,
   "metadata": {
    "collapsed": true
   },
   "outputs": [],
   "source": [
    "# Add the index of the document to each of the words\n",
    "def add_index_to_words(item):\n",
    "    result = []\n",
    "    for word in item[0]:\n",
    "        result.append((word, item[1]))\n",
    "    return result"
   ]
  },
  {
   "cell_type": "code",
   "execution_count": 24,
   "metadata": {
    "collapsed": false
   },
   "outputs": [
    {
     "data": {
      "text/plain": [
       "[('a', 0),\n",
       " ('lannister', 0),\n",
       " ('always', 0),\n",
       " ('pays', 0),\n",
       " ('his', 0),\n",
       " ('debts', 0),\n",
       " ('the', 1),\n",
       " ('night', 1),\n",
       " ('is', 1),\n",
       " ('dark', 1),\n",
       " ('and', 1),\n",
       " ('full', 1),\n",
       " ('of', 1),\n",
       " ('terrors', 1),\n",
       " ('the', 2),\n",
       " ('next', 2),\n",
       " ('time', 2),\n",
       " ('you', 2),\n",
       " ('raise', 2),\n",
       " ('a', 2),\n",
       " ('hand', 2),\n",
       " ('to', 2),\n",
       " ('me', 2),\n",
       " ('will', 2),\n",
       " ('be', 2),\n",
       " ('the', 2),\n",
       " ('last', 2),\n",
       " ('time', 2),\n",
       " ('you', 2),\n",
       " ('have', 2),\n",
       " ('hands', 2),\n",
       " ('when', 3),\n",
       " ('you', 3),\n",
       " ('play', 3),\n",
       " ('the', 3),\n",
       " ('game', 3),\n",
       " ('of', 3),\n",
       " ('thrones', 3),\n",
       " ('you', 3),\n",
       " ('win', 3),\n",
       " ('or', 3),\n",
       " ('you', 3),\n",
       " ('die', 3),\n",
       " ('you', 4),\n",
       " ('know', 4),\n",
       " ('nothing', 4),\n",
       " ('jon', 4),\n",
       " ('snow', 4)]"
      ]
     },
     "execution_count": 24,
     "metadata": {},
     "output_type": "execute_result"
    }
   ],
   "source": [
    "# rdd_parsed_indexed = rdd_parsed.flatMap(lambda x: map(lambda y: (y, x[1]), x[0]))\n",
    "rdd_parsed_indexed = rdd_parsed.flatMap(add_index_to_words)\n",
    "rdd_parsed_indexed.collect()"
   ]
  },
  {
   "cell_type": "code",
   "execution_count": 25,
   "metadata": {
    "collapsed": false,
    "scrolled": true
   },
   "outputs": [
    {
     "data": {
      "text/plain": [
       "[(('a', 0), 1),\n",
       " (('lannister', 0), 1),\n",
       " (('always', 0), 1),\n",
       " (('pays', 0), 1),\n",
       " (('his', 0), 1),\n",
       " (('debts', 0), 1),\n",
       " (('the', 1), 1),\n",
       " (('night', 1), 1),\n",
       " (('is', 1), 1),\n",
       " (('dark', 1), 1),\n",
       " (('and', 1), 1),\n",
       " (('full', 1), 1),\n",
       " (('of', 1), 1),\n",
       " (('terrors', 1), 1),\n",
       " (('the', 2), 1),\n",
       " (('next', 2), 1),\n",
       " (('time', 2), 1),\n",
       " (('you', 2), 1),\n",
       " (('raise', 2), 1),\n",
       " (('a', 2), 1),\n",
       " (('hand', 2), 1),\n",
       " (('to', 2), 1),\n",
       " (('me', 2), 1),\n",
       " (('will', 2), 1),\n",
       " (('be', 2), 1),\n",
       " (('the', 2), 1),\n",
       " (('last', 2), 1),\n",
       " (('time', 2), 1),\n",
       " (('you', 2), 1),\n",
       " (('have', 2), 1),\n",
       " (('hands', 2), 1),\n",
       " (('when', 3), 1),\n",
       " (('you', 3), 1),\n",
       " (('play', 3), 1),\n",
       " (('the', 3), 1),\n",
       " (('game', 3), 1),\n",
       " (('of', 3), 1),\n",
       " (('thrones', 3), 1),\n",
       " (('you', 3), 1),\n",
       " (('win', 3), 1),\n",
       " (('or', 3), 1),\n",
       " (('you', 3), 1),\n",
       " (('die', 3), 1),\n",
       " (('you', 4), 1),\n",
       " (('know', 4), 1),\n",
       " (('nothing', 4), 1),\n",
       " (('jon', 4), 1),\n",
       " (('snow', 4), 1)]"
      ]
     },
     "execution_count": 25,
     "metadata": {},
     "output_type": "execute_result"
    }
   ],
   "source": [
    "# use the same concept from word count to provide each key a default initial count of 1\n",
    "rdd_doc_countmap = rdd_parsed_indexed.map(lambda item: (item, 1))\n",
    "rdd_doc_countmap.collect()"
   ]
  },
  {
   "cell_type": "code",
   "execution_count": 26,
   "metadata": {
    "collapsed": false,
    "scrolled": true
   },
   "outputs": [
    {
     "data": {
      "text/plain": [
       "[(('last', 2), 1),\n",
       " (('always', 0), 1),\n",
       " (('and', 1), 1),\n",
       " (('game', 3), 1),\n",
       " (('lannister', 0), 1),\n",
       " (('his', 0), 1),\n",
       " (('thrones', 3), 1),\n",
       " (('the', 3), 1),\n",
       " (('know', 4), 1),\n",
       " (('play', 3), 1),\n",
       " (('you', 3), 3),\n",
       " (('the', 1), 1),\n",
       " (('or', 3), 1),\n",
       " (('jon', 4), 1),\n",
       " (('have', 2), 1),\n",
       " (('of', 3), 1),\n",
       " (('to', 2), 1),\n",
       " (('night', 1), 1),\n",
       " (('the', 2), 2),\n",
       " (('a', 0), 1),\n",
       " (('me', 2), 1),\n",
       " (('you', 2), 2),\n",
       " (('hands', 2), 1),\n",
       " (('is', 1), 1),\n",
       " (('time', 2), 2),\n",
       " (('full', 1), 1),\n",
       " (('raise', 2), 1),\n",
       " (('next', 2), 1),\n",
       " (('win', 3), 1),\n",
       " (('debts', 0), 1),\n",
       " (('a', 2), 1),\n",
       " (('of', 1), 1),\n",
       " (('be', 2), 1),\n",
       " (('terrors', 1), 1),\n",
       " (('snow', 4), 1),\n",
       " (('dark', 1), 1),\n",
       " (('when', 3), 1),\n",
       " (('die', 3), 1),\n",
       " (('you', 4), 1),\n",
       " (('hand', 2), 1),\n",
       " (('will', 2), 1),\n",
       " (('nothing', 4), 1),\n",
       " (('pays', 0), 1)]"
      ]
     },
     "execution_count": 26,
     "metadata": {},
     "output_type": "execute_result"
    }
   ],
   "source": [
    "#key on tuple\n",
    "rdd_doc_wordcount = rdd_doc_countmap.reduceByKey(lambda a,b : a+b)\n",
    "rdd_doc_wordcount.collect()"
   ]
  },
  {
   "cell_type": "code",
   "execution_count": null,
   "metadata": {
    "collapsed": false
   },
   "outputs": [],
   "source": [
    "rdd_wordcount_doc = rdd_doc_wordcount.map(lambda item: (item[0][0], [item[0][1], item[1]]))\n",
    "rdd_grouped = rdd_wordcount_doc.groupByKey()\n",
    "rdd_grouped = rdd_grouped.mapValues(list)\n",
    "rdd_sorted = rdd_grouped.sortByKey()\n",
    "rdd_sorted.collect()"
   ]
  },
  {
   "cell_type": "code",
   "execution_count": null,
   "metadata": {
    "collapsed": true
   },
   "outputs": [],
   "source": []
  }
 ],
 "metadata": {
  "kernelspec": {
   "display_name": "Python 3",
   "language": "python",
   "name": "python3"
  },
  "language_info": {
   "codemirror_mode": {
    "name": "ipython",
    "version": 3
   },
   "file_extension": ".py",
   "mimetype": "text/x-python",
   "name": "python",
   "nbconvert_exporter": "python",
   "pygments_lexer": "ipython3",
   "version": "3.4.3"
  }
 },
 "nbformat": 4,
 "nbformat_minor": 0
}
