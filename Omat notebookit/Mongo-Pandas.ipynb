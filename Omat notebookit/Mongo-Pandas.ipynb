{
 "cells": [
  {
   "cell_type": "markdown",
   "metadata": {},
   "source": [
    "0. HUOM. Muuta bindIp arvoksi 0.0.0.0 /etc/mongod.conf-tiedostosta, tallenna ja uudellenkäynnistä mongod komennoilla sudo service mongod stop ja sudo service mongod start\n",
    "1. Otetaan yhteys Pythonilla MongoDB-tietokantaan.\n",
    "2. Vedetään sieltä dataa Pandas-dataframeen.\n",
    "3. Tehdään visualisointia datalla."
   ]
  },
  {
   "cell_type": "code",
   "execution_count": 1,
   "metadata": {
    "collapsed": true
   },
   "outputs": [],
   "source": [
    "#Ladataan kirjastot\n",
    "from pymongo import MongoClient\n",
    "import pandas as pd\n",
    "from bson import json_util, ObjectId\n",
    "from pandas.io.json import json_normalize\n",
    "import json"
   ]
  },
  {
   "cell_type": "code",
   "execution_count": 2,
   "metadata": {
    "collapsed": true
   },
   "outputs": [],
   "source": [
    "#Otetaan yhteys MongoDB:hen\n",
    "client = MongoClient(\"mongodb://172.31.17.68:27017\")\n",
    "db = client.test\n",
    "restaurants_collection = db.restaurants"
   ]
  },
  {
   "cell_type": "code",
   "execution_count": 287,
   "metadata": {
    "collapsed": false
   },
   "outputs": [],
   "source": [
    "#Ladataan data kokoelmasta\n",
    "sani = json.loads(json_util.dumps(restaurants_collection.find()))"
   ]
  },
  {
   "cell_type": "code",
   "execution_count": 288,
   "metadata": {
    "collapsed": false
   },
   "outputs": [
    {
     "data": {
      "text/plain": [
       "{'_id': {'$oid': '581083e76639ca5e0e3d1b68'},\n",
       " 'address': {'building': '1007',\n",
       "  'coord': [-73.856077, 40.848447],\n",
       "  'street': 'Morris Park Ave',\n",
       "  'zipcode': '10462'},\n",
       " 'borough': 'Bronx',\n",
       " 'cuisine': 'Bakery',\n",
       " 'grades': [{'date': {'$date': 1393804800000}, 'grade': 'A', 'score': 2},\n",
       "  {'date': {'$date': 1378857600000}, 'grade': 'A', 'score': 6},\n",
       "  {'date': {'$date': 1358985600000}, 'grade': 'A', 'score': 10},\n",
       "  {'date': {'$date': 1322006400000}, 'grade': 'A', 'score': 9},\n",
       "  {'date': {'$date': 1299715200000}, 'grade': 'B', 'score': 14}],\n",
       " 'name': 'Morris Park Bake Shop',\n",
       " 'restaurant_id': '30075445'}"
      ]
     },
     "execution_count": 288,
     "metadata": {},
     "output_type": "execute_result"
    }
   ],
   "source": [
    "sani[0]"
   ]
  },
  {
   "cell_type": "code",
   "execution_count": 283,
   "metadata": {
    "collapsed": false
   },
   "outputs": [],
   "source": [
    "#Luodaan dataframe\n",
    "restaurants_df = pd.DataFrame(list(restaurants_collection.find()))\n",
    "\n",
    "#Normalisoidaan grades-sarake\n",
    "grades_df = json_normalize(sani, \"grades\")\n",
    "\n",
    "#Normalisoidaan address-sarake\n",
    "address_df = json_normalize(sani, \"address\")"
   ]
  },
  {
   "cell_type": "code",
   "execution_count": 284,
   "metadata": {
    "collapsed": false
   },
   "outputs": [
    {
     "data": {
      "text/html": [
       "<div>\n",
       "<table border=\"1\" class=\"dataframe\">\n",
       "  <thead>\n",
       "    <tr style=\"text-align: right;\">\n",
       "      <th></th>\n",
       "      <th>_id</th>\n",
       "      <th>address</th>\n",
       "      <th>borough</th>\n",
       "      <th>cuisine</th>\n",
       "      <th>grades</th>\n",
       "      <th>name</th>\n",
       "      <th>restaurant_id</th>\n",
       "    </tr>\n",
       "  </thead>\n",
       "  <tbody>\n",
       "    <tr>\n",
       "      <th>0</th>\n",
       "      <td>581083e76639ca5e0e3d1b68</td>\n",
       "      <td>{'street': 'Morris Park Ave', 'zipcode': '1046...</td>\n",
       "      <td>Bronx</td>\n",
       "      <td>Bakery</td>\n",
       "      <td>[{'score': 2, 'date': 2014-03-03 00:00:00, 'gr...</td>\n",
       "      <td>Morris Park Bake Shop</td>\n",
       "      <td>30075445</td>\n",
       "    </tr>\n",
       "    <tr>\n",
       "      <th>1</th>\n",
       "      <td>581083e76639ca5e0e3d1b69</td>\n",
       "      <td>{'street': 'Flatbush Avenue', 'zipcode': '1122...</td>\n",
       "      <td>Brooklyn</td>\n",
       "      <td>Hamburgers</td>\n",
       "      <td>[{'score': 8, 'date': 2014-12-30 00:00:00, 'gr...</td>\n",
       "      <td>Wendy'S</td>\n",
       "      <td>30112340</td>\n",
       "    </tr>\n",
       "    <tr>\n",
       "      <th>2</th>\n",
       "      <td>581083e76639ca5e0e3d1b6a</td>\n",
       "      <td>{'street': 'West   57 Street', 'zipcode': '100...</td>\n",
       "      <td>Manhattan</td>\n",
       "      <td>Irish</td>\n",
       "      <td>[{'score': 2, 'date': 2014-09-06 00:00:00, 'gr...</td>\n",
       "      <td>Dj Reynolds Pub And Restaurant</td>\n",
       "      <td>30191841</td>\n",
       "    </tr>\n",
       "    <tr>\n",
       "      <th>3</th>\n",
       "      <td>581083e76639ca5e0e3d1b6b</td>\n",
       "      <td>{'street': 'Stillwell Avenue', 'zipcode': '112...</td>\n",
       "      <td>Brooklyn</td>\n",
       "      <td>American</td>\n",
       "      <td>[{'score': 5, 'date': 2014-06-10 00:00:00, 'gr...</td>\n",
       "      <td>Riviera Caterer</td>\n",
       "      <td>40356018</td>\n",
       "    </tr>\n",
       "    <tr>\n",
       "      <th>4</th>\n",
       "      <td>581083e76639ca5e0e3d1b6c</td>\n",
       "      <td>{'street': '63 Road', 'zipcode': '11374', 'coo...</td>\n",
       "      <td>Queens</td>\n",
       "      <td>Jewish/Kosher</td>\n",
       "      <td>[{'score': 20, 'date': 2014-11-24 00:00:00, 'g...</td>\n",
       "      <td>Tov Kosher Kitchen</td>\n",
       "      <td>40356068</td>\n",
       "    </tr>\n",
       "  </tbody>\n",
       "</table>\n",
       "</div>"
      ],
      "text/plain": [
       "                        _id  \\\n",
       "0  581083e76639ca5e0e3d1b68   \n",
       "1  581083e76639ca5e0e3d1b69   \n",
       "2  581083e76639ca5e0e3d1b6a   \n",
       "3  581083e76639ca5e0e3d1b6b   \n",
       "4  581083e76639ca5e0e3d1b6c   \n",
       "\n",
       "                                             address    borough  \\\n",
       "0  {'street': 'Morris Park Ave', 'zipcode': '1046...      Bronx   \n",
       "1  {'street': 'Flatbush Avenue', 'zipcode': '1122...   Brooklyn   \n",
       "2  {'street': 'West   57 Street', 'zipcode': '100...  Manhattan   \n",
       "3  {'street': 'Stillwell Avenue', 'zipcode': '112...   Brooklyn   \n",
       "4  {'street': '63 Road', 'zipcode': '11374', 'coo...     Queens   \n",
       "\n",
       "         cuisine                                             grades  \\\n",
       "0         Bakery  [{'score': 2, 'date': 2014-03-03 00:00:00, 'gr...   \n",
       "1     Hamburgers  [{'score': 8, 'date': 2014-12-30 00:00:00, 'gr...   \n",
       "2          Irish  [{'score': 2, 'date': 2014-09-06 00:00:00, 'gr...   \n",
       "3      American   [{'score': 5, 'date': 2014-06-10 00:00:00, 'gr...   \n",
       "4  Jewish/Kosher  [{'score': 20, 'date': 2014-11-24 00:00:00, 'g...   \n",
       "\n",
       "                             name restaurant_id  \n",
       "0           Morris Park Bake Shop      30075445  \n",
       "1                         Wendy'S      30112340  \n",
       "2  Dj Reynolds Pub And Restaurant      30191841  \n",
       "3                 Riviera Caterer      40356018  \n",
       "4              Tov Kosher Kitchen      40356068  "
      ]
     },
     "execution_count": 284,
     "metadata": {},
     "output_type": "execute_result"
    }
   ],
   "source": [
    "restaurants_df.head()"
   ]
  },
  {
   "cell_type": "code",
   "execution_count": 273,
   "metadata": {
    "collapsed": true
   },
   "outputs": [
    {
     "name": "stdout",
     "output_type": "stream",
     "text": [
      "{'street': 'Morris Park Ave', 'zipcode': '10462', 'coord': [-73.856077, 40.848447], 'building': '1007'}\n",
      "  building                    coord           street zipcode\n",
      "0     1007  [-73.856077, 40.848447]  Morris Park Ave   10462\n"
     ]
    },
    {
     "data": {
      "text/html": [
       "<div>\n",
       "<table border=\"1\" class=\"dataframe\">\n",
       "  <thead>\n",
       "    <tr style=\"text-align: right;\">\n",
       "      <th></th>\n",
       "      <th>building</th>\n",
       "      <th>coord</th>\n",
       "      <th>street</th>\n",
       "      <th>zipcode</th>\n",
       "    </tr>\n",
       "  </thead>\n",
       "  <tbody>\n",
       "    <tr>\n",
       "      <th>0</th>\n",
       "      <td>1007</td>\n",
       "      <td>[-73.856077, 40.848447]</td>\n",
       "      <td>Morris Park Ave</td>\n",
       "      <td>10462</td>\n",
       "    </tr>\n",
       "  </tbody>\n",
       "</table>\n",
       "</div>"
      ],
      "text/plain": [
       "  building                    coord           street zipcode\n",
       "0     1007  [-73.856077, 40.848447]  Morris Park Ave   10462"
      ]
     },
     "execution_count": 273,
     "metadata": {},
     "output_type": "execute_result"
    }
   ],
   "source": [
    "#osoite = restaurants_df[\"address\"][0]\n",
    "#print(osoite)\n",
    "#norm_osoite = json_normalize(osoite)\n",
    "#print(norm_osoite)\n",
    "#norm_osoite_df = pd.DataFrame(norm_osoite)\n",
    "#norm_osoite_df.head()"
   ]
  },
  {
   "cell_type": "code",
   "execution_count": 236,
   "metadata": {
    "collapsed": false
   },
   "outputs": [],
   "source": [
    "#Poistetaan tarpeettomat sarakkeet\n",
    "del df_restaurants[\"_id\"]\n",
    "del df_restaurants[\"address\"]\n",
    "del df_restaurants[\"grades\"]"
   ]
  },
  {
   "cell_type": "code",
   "execution_count": 237,
   "metadata": {
    "collapsed": true
   },
   "outputs": [],
   "source": [
    "#Yhdistetään normalisoidut dataframet alkuperäiseen horisontaalisti\n",
    "full_df = pd.concat( [df_restaurants, grades_df], axis = 1 )"
   ]
  },
  {
   "cell_type": "code",
   "execution_count": 238,
   "metadata": {
    "collapsed": true
   },
   "outputs": [
    {
     "data": {
      "text/html": [
       "<div>\n",
       "<table border=\"1\" class=\"dataframe\">\n",
       "  <thead>\n",
       "    <tr style=\"text-align: right;\">\n",
       "      <th></th>\n",
       "      <th>borough</th>\n",
       "      <th>cuisine</th>\n",
       "      <th>name</th>\n",
       "      <th>restaurant_id</th>\n",
       "      <th>date</th>\n",
       "      <th>grade</th>\n",
       "      <th>score</th>\n",
       "    </tr>\n",
       "  </thead>\n",
       "  <tbody>\n",
       "    <tr>\n",
       "      <th>0</th>\n",
       "      <td>Bronx</td>\n",
       "      <td>Bakery</td>\n",
       "      <td>Morris Park Bake Shop</td>\n",
       "      <td>30075445</td>\n",
       "      <td>{'$date': 1393804800000}</td>\n",
       "      <td>A</td>\n",
       "      <td>2.0</td>\n",
       "    </tr>\n",
       "    <tr>\n",
       "      <th>1</th>\n",
       "      <td>Brooklyn</td>\n",
       "      <td>Hamburgers</td>\n",
       "      <td>Wendy'S</td>\n",
       "      <td>30112340</td>\n",
       "      <td>{'$date': 1378857600000}</td>\n",
       "      <td>A</td>\n",
       "      <td>6.0</td>\n",
       "    </tr>\n",
       "    <tr>\n",
       "      <th>2</th>\n",
       "      <td>Manhattan</td>\n",
       "      <td>Irish</td>\n",
       "      <td>Dj Reynolds Pub And Restaurant</td>\n",
       "      <td>30191841</td>\n",
       "      <td>{'$date': 1358985600000}</td>\n",
       "      <td>A</td>\n",
       "      <td>10.0</td>\n",
       "    </tr>\n",
       "    <tr>\n",
       "      <th>3</th>\n",
       "      <td>Brooklyn</td>\n",
       "      <td>American</td>\n",
       "      <td>Riviera Caterer</td>\n",
       "      <td>40356018</td>\n",
       "      <td>{'$date': 1322006400000}</td>\n",
       "      <td>A</td>\n",
       "      <td>9.0</td>\n",
       "    </tr>\n",
       "    <tr>\n",
       "      <th>4</th>\n",
       "      <td>Queens</td>\n",
       "      <td>Jewish/Kosher</td>\n",
       "      <td>Tov Kosher Kitchen</td>\n",
       "      <td>40356068</td>\n",
       "      <td>{'$date': 1299715200000}</td>\n",
       "      <td>B</td>\n",
       "      <td>14.0</td>\n",
       "    </tr>\n",
       "  </tbody>\n",
       "</table>\n",
       "</div>"
      ],
      "text/plain": [
       "     borough        cuisine                            name restaurant_id  \\\n",
       "0      Bronx         Bakery           Morris Park Bake Shop      30075445   \n",
       "1   Brooklyn     Hamburgers                         Wendy'S      30112340   \n",
       "2  Manhattan          Irish  Dj Reynolds Pub And Restaurant      30191841   \n",
       "3   Brooklyn      American                  Riviera Caterer      40356018   \n",
       "4     Queens  Jewish/Kosher              Tov Kosher Kitchen      40356068   \n",
       "\n",
       "                       date grade  score  \n",
       "0  {'$date': 1393804800000}     A    2.0  \n",
       "1  {'$date': 1378857600000}     A    6.0  \n",
       "2  {'$date': 1358985600000}     A   10.0  \n",
       "3  {'$date': 1322006400000}     A    9.0  \n",
       "4  {'$date': 1299715200000}     B   14.0  "
      ]
     },
     "execution_count": 238,
     "metadata": {},
     "output_type": "execute_result"
    }
   ],
   "source": [
    "full_df.head()"
   ]
  },
  {
   "cell_type": "code",
   "execution_count": 220,
   "metadata": {
    "collapsed": true
   },
   "outputs": [
    {
     "name": "stdout",
     "output_type": "stream",
     "text": [
      "                        _id  \\\n",
      "0  581083e76639ca5e0e3d1b68   \n",
      "\n",
      "                                             address borough cuisine  \\\n",
      "0  {'street': 'Morris Park Ave', 'zipcode': '1046...   Bronx  Bakery   \n",
      "\n",
      "                                              grades                   name  \\\n",
      "0  [{'score': 2, 'date': 2014-03-03 00:00:00, 'gr...  Morris Park Bake Shop   \n",
      "\n",
      "  restaurant_id  \n",
      "0      30075445  \n"
     ]
    }
   ],
   "source": [
    "a = df_restaurants[0:1]\n",
    "print(a[\"grades\"][0][0][\"score\"])"
   ]
  }
 ],
 "metadata": {
  "anaconda-cloud": {},
  "kernelspec": {
   "display_name": "Python [conda root]",
   "language": "python",
   "name": "conda-root-py"
  },
  "language_info": {
   "codemirror_mode": {
    "name": "ipython",
    "version": 3
   },
   "file_extension": ".py",
   "mimetype": "text/x-python",
   "name": "python",
   "nbconvert_exporter": "python",
   "pygments_lexer": "ipython3",
   "version": "3.5.2"
  }
 },
 "nbformat": 4,
 "nbformat_minor": 1
}
